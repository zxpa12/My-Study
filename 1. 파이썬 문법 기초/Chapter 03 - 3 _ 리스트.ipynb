{
 "cells": [
  {
   "cell_type": "markdown",
   "metadata": {},
   "source": [
    "- # 리스트 자료형(순서o, 중복o, 수정o, 삭제o)"
   ]
  },
  {
   "cell_type": "markdown",
   "metadata": {},
   "source": [
    "- 선언"
   ]
  },
  {
   "cell_type": "code",
   "execution_count": 12,
   "metadata": {},
   "outputs": [],
   "source": [
    "a = []\n",
    "b = list()\n",
    "c = [70, 75, 80, 85]\n",
    "d = [1000, 10000, 'Ace', 'Base', 'Captine']\n",
    "e = [1000, 10000, ['Ace', 'Base', 'Captine']]\n",
    "f = [21.42, 'foobar', 3, 4, False, 3.141592]"
   ]
  },
  {
   "cell_type": "markdown",
   "metadata": {},
   "source": [
    "- 슬라이싱 연습"
   ]
  },
  {
   "cell_type": "code",
   "execution_count": 13,
   "metadata": {},
   "outputs": [
    {
     "name": "stdout",
     "output_type": "stream",
     "text": [
      "d -  [1000, 10000, 'Ace']\n",
      "d -  ['Ace', 'Base', 'Captine']\n",
      "e -  ['Base', 'Captine']\n"
     ]
    }
   ],
   "source": [
    "print('d - ', d[0:3])\n",
    "print('d - ', d[2:])\n",
    "print('e - ', e[-1][1:3])"
   ]
  },
  {
   "cell_type": "markdown",
   "metadata": {},
   "source": [
    "- 리스트 연산 / 하나의 리스트로 합쳐짐"
   ]
  },
  {
   "cell_type": "code",
   "execution_count": 14,
   "metadata": {},
   "outputs": [
    {
     "name": "stdout",
     "output_type": "stream",
     "text": [
      "c + d =  [70, 75, 80, 85, 1000, 10000, 'Ace', 'Base', 'Captine']\n",
      "c * 3 =  [70, 75, 80, 85, 70, 75, 80, 85, 70, 75, 80, 85]\n",
      "'Test' + c[0] Test70\n"
     ]
    }
   ],
   "source": [
    "print('c + d = ', c + d)\n",
    "print('c * 3 = ', c * 3) #순서 유지\n",
    "print(\"'Test' + c[0]\", 'Test' + str(c[0])) #형변환"
   ]
  },
  {
   "cell_type": "markdown",
   "metadata": {},
   "source": [
    "- 값 비교"
   ]
  },
  {
   "cell_type": "code",
   "execution_count": 15,
   "metadata": {},
   "outputs": [
    {
     "name": "stdout",
     "output_type": "stream",
     "text": [
      "True\n",
      "[70, 75, 80, 85]\n",
      "[70, 75, 80, 85]\n"
     ]
    }
   ],
   "source": [
    "print(c == c[:3] + c[3:])\n",
    "print(c)\n",
    "print(c[:3] + c[3:])"
   ]
  },
  {
   "cell_type": "markdown",
   "metadata": {},
   "source": [
    "- 리스트 수정, 삭제"
   ]
  },
  {
   "cell_type": "code",
   "execution_count": 16,
   "metadata": {},
   "outputs": [
    {
     "name": "stdout",
     "output_type": "stream",
     "text": [
      "c -  [70, 75, 80, 85]\n",
      "c -  [70, 75, 100, 85]\n",
      "c -  [70, 'a', 'b', 'c', 100, 85]\n",
      "c -  [70, ['a', 'b', 'c'], 'b', 'c', 100, 85]\n",
      "c -  [70, 'c', 100, 85]\n",
      "c -  [70, 'c', 85]\n"
     ]
    }
   ],
   "source": [
    "print('c - ', c)\n",
    "\n",
    "c[2] = 100 #기존에 있던 원소가 사라지고 그 자리에 100이 들어감\n",
    "print('c - ', c)\n",
    "\n",
    "c[1:2] = ['a', 'b', 'c'] # [['a', 'b', 'c']]\n",
    "print('c - ', c)\n",
    "\n",
    "c[1] = ['a', 'b', 'c'] #범위를 ex([1:2])로 설정하면 하나하나 들어가고 안하면 리스트로 들어감\n",
    "print('c - ', c)\n",
    "\n",
    "c[1:3] = [] #삭제할때\n",
    "print('c - ', c)\n",
    "\n",
    "del c[2] #삭제 할 때 더 쓰임\n",
    "print('c - ', c)"
   ]
  },
  {
   "cell_type": "markdown",
   "metadata": {},
   "source": [
    "- 리스트 함수"
   ]
  },
  {
   "cell_type": "code",
   "execution_count": 17,
   "metadata": {},
   "outputs": [],
   "source": [
    "a = [5, 2, 3, 1, 4]"
   ]
  },
  {
   "cell_type": "markdown",
   "metadata": {},
   "source": [
    "- append 함수 = 끝부분에 삽입하고 싶을 때 사용하는 함수"
   ]
  },
  {
   "cell_type": "code",
   "execution_count": 19,
   "metadata": {},
   "outputs": [
    {
     "data": {
      "text/plain": [
       "[5, 2, 3, 1, 4, 10, 10]"
      ]
     },
     "execution_count": 19,
     "metadata": {},
     "output_type": "execute_result"
    }
   ],
   "source": [
    "a.append(10)\n",
    "a"
   ]
  },
  {
   "cell_type": "markdown",
   "metadata": {},
   "source": [
    "- sort 함수 = 오름차순으로 정렬"
   ]
  },
  {
   "cell_type": "code",
   "execution_count": 20,
   "metadata": {},
   "outputs": [
    {
     "data": {
      "text/plain": [
       "[1, 2, 3, 4, 5, 10, 10]"
      ]
     },
     "execution_count": 20,
     "metadata": {},
     "output_type": "execute_result"
    }
   ],
   "source": [
    "a.sort()\n",
    "a"
   ]
  },
  {
   "cell_type": "markdown",
   "metadata": {},
   "source": [
    "- reverse 함수 = 반대로 정렬"
   ]
  },
  {
   "cell_type": "code",
   "execution_count": 21,
   "metadata": {},
   "outputs": [
    {
     "data": {
      "text/plain": [
       "[10, 10, 5, 4, 3, 2, 1]"
      ]
     },
     "execution_count": 21,
     "metadata": {},
     "output_type": "execute_result"
    }
   ],
   "source": [
    "a.reverse()\n",
    "a"
   ]
  },
  {
   "cell_type": "code",
   "execution_count": 22,
   "metadata": {},
   "outputs": [
    {
     "data": {
      "text/plain": [
       "(4, 4)"
      ]
     },
     "execution_count": 22,
     "metadata": {},
     "output_type": "execute_result"
    }
   ],
   "source": [
    "a.index(3), a[3]"
   ]
  },
  {
   "cell_type": "markdown",
   "metadata": {},
   "source": [
    "- insert 함수 = 삽입함수\n",
    "- ex) a.insert(2, 7) = 인덱스 2번째 위치에 7을 넣을 것이다."
   ]
  },
  {
   "cell_type": "code",
   "execution_count": 24,
   "metadata": {},
   "outputs": [
    {
     "data": {
      "text/plain": [
       "[10, 10, 7, 7, 5, 4, 3, 2, 1]"
      ]
     },
     "execution_count": 24,
     "metadata": {},
     "output_type": "execute_result"
    }
   ],
   "source": [
    "a.insert(2,7)\n",
    "a"
   ]
  },
  {
   "cell_type": "markdown",
   "metadata": {},
   "source": [
    "- pop 함수 = 마지막에 있는 원소를 뺌"
   ]
  },
  {
   "cell_type": "code",
   "execution_count": 29,
   "metadata": {},
   "outputs": [
    {
     "data": {
      "text/plain": [
       "[10, 10, 7, 7]"
      ]
     },
     "execution_count": 29,
     "metadata": {},
     "output_type": "execute_result"
    }
   ],
   "source": [
    "a.pop()\n",
    "a"
   ]
  },
  {
   "cell_type": "markdown",
   "metadata": {},
   "source": [
    "- count 함수 = 리스트 안에 몇개 있는지 확인"
   ]
  },
  {
   "cell_type": "code",
   "execution_count": 30,
   "metadata": {},
   "outputs": [
    {
     "data": {
      "text/plain": [
       "0"
      ]
     },
     "execution_count": 30,
     "metadata": {},
     "output_type": "execute_result"
    }
   ],
   "source": [
    "a.count(4)"
   ]
  },
  {
   "cell_type": "markdown",
   "metadata": {},
   "source": [
    "- extend 함수 = 리스트에 추가함 "
   ]
  },
  {
   "cell_type": "code",
   "execution_count": 34,
   "metadata": {},
   "outputs": [
    {
     "data": {
      "text/plain": [
       "[10, 10, 7, 7, 8, 9, 8, 9, 8, 9, 8, 9]"
      ]
     },
     "execution_count": 34,
     "metadata": {},
     "output_type": "execute_result"
    }
   ],
   "source": [
    "ex = [8, 9]\n",
    "a.extend(ex)\n",
    "a"
   ]
  }
 ],
 "metadata": {
  "kernelspec": {
   "display_name": "Python 3",
   "language": "python",
   "name": "python3"
  },
  "language_info": {
   "codemirror_mode": {
    "name": "ipython",
    "version": 3
   },
   "file_extension": ".py",
   "mimetype": "text/x-python",
   "name": "python",
   "nbconvert_exporter": "python",
   "pygments_lexer": "ipython3",
   "version": "3.8.5"
  }
 },
 "nbformat": 4,
 "nbformat_minor": 4
}
