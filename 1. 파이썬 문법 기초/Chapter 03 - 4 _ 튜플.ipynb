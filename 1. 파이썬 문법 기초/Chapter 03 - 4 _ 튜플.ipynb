{
 "cells": [
  {
   "cell_type": "markdown",
   "metadata": {},
   "source": [
    "## 리스트와 비교 중요\n",
    "## 튜플 자료형(순서o, 중복o, 수정x, 삭제x) # 불변"
   ]
  },
  {
   "cell_type": "markdown",
   "metadata": {},
   "source": [
    " - 선언"
   ]
  },
  {
   "cell_type": "code",
   "execution_count": 2,
   "metadata": {},
   "outputs": [],
   "source": [
    "a = ()\n",
    "b = (1, 2) # 한개일때도 ,로 끝내야 튜플로 인식\n",
    "c = (11, 12, 13, 14)\n",
    "d = (100, 1000, 'Ace', 'Base', 'Captine')\n",
    "e = (100, 1000, ('Ace', 'Base', 'Captine'))"
   ]
  },
  {
   "cell_type": "markdown",
   "metadata": {},
   "source": [
    "- 인덱싱"
   ]
  },
  {
   "cell_type": "code",
   "execution_count": 3,
   "metadata": {},
   "outputs": [
    {
     "name": "stdout",
     "output_type": "stream",
     "text": [
      "d - 1000\n",
      "d - 2100\n",
      "d - Captine\n",
      "e - ('Ace', 'Base', 'Captine')\n",
      "e - ['B', 'a', 's', 'e']\n"
     ]
    }
   ],
   "source": [
    "print('d -', d[1])\n",
    "print('d -', d[0] + d[1] + d[1])\n",
    "print('d -', d[-1])\n",
    "print('e -', e[-1])\n",
    "print('e -', list(e[-1][1])) #list 형 변환"
   ]
  },
  {
   "cell_type": "markdown",
   "metadata": {},
   "source": [
    "- 슬라이싱"
   ]
  },
  {
   "cell_type": "code",
   "execution_count": 7,
   "metadata": {},
   "outputs": [
    {
     "name": "stdout",
     "output_type": "stream",
     "text": [
      "d -  (100, 1000, 'Ace', 'Base', 'Captine')\n",
      "d - (100, 1000, 'Ace')\n",
      "d - ('Ace', 'Base', 'Captine')\n",
      "e - (100, 1000, ('Ace', 'Base', 'Captine'))\n",
      "e - ('Base', 'Captine')\n"
     ]
    }
   ],
   "source": [
    "print('d - ', d)\n",
    "print('d -', d[0:3])\n",
    "print('d -', d[2:])\n",
    "print('e -', e)\n",
    "print('e -', e[2][1:3])"
   ]
  },
  {
   "cell_type": "markdown",
   "metadata": {},
   "source": [
    "- 연산"
   ]
  },
  {
   "cell_type": "code",
   "execution_count": 9,
   "metadata": {},
   "outputs": [
    {
     "name": "stdout",
     "output_type": "stream",
     "text": [
      "(11, 12, 13, 14)\n",
      "(100, 1000, 'Ace', 'Base', 'Captine')\n",
      "c + d = (11, 12, 13, 14, 100, 1000, 'Ace', 'Base', 'Captine')\n",
      "c * 3 = (11, 12, 13, 14, 11, 12, 13, 14, 11, 12, 13, 14)\n"
     ]
    }
   ],
   "source": [
    "print(c)\n",
    "print(d)\n",
    "print('c + d =', c + d)\n",
    "print('c * 3 =', c * 3)"
   ]
  },
  {
   "cell_type": "markdown",
   "metadata": {},
   "source": [
    "- 팩킹"
   ]
  },
  {
   "cell_type": "code",
   "execution_count": 12,
   "metadata": {},
   "outputs": [
    {
     "name": "stdout",
     "output_type": "stream",
     "text": [
      "('apple', 'banana', 'peach', 'grape')\n",
      "apple\n",
      "grape\n"
     ]
    }
   ],
   "source": [
    "t = ('apple', 'banana', 'peach', 'grape')\n",
    "print(t)\n",
    "print(t[0])\n",
    "print(t[-1])"
   ]
  },
  {
   "cell_type": "markdown",
   "metadata": {},
   "source": [
    "- 언팩킹"
   ]
  },
  {
   "cell_type": "code",
   "execution_count": 13,
   "metadata": {},
   "outputs": [
    {
     "name": "stdout",
     "output_type": "stream",
     "text": [
      "<class 'str'> <class 'str'> <class 'str'> <class 'str'>\n",
      "apple banana peach grape\n"
     ]
    }
   ],
   "source": [
    "(x1, x2, x3, x4) = t\n",
    "print(type(x1), type(x2), type(x3), type(x4))\n",
    "print(x1, x2, x3, x4)"
   ]
  },
  {
   "cell_type": "markdown",
   "metadata": {},
   "source": [
    "- 팩킹 & 언팩킹"
   ]
  },
  {
   "cell_type": "code",
   "execution_count": 16,
   "metadata": {},
   "outputs": [
    {
     "name": "stdout",
     "output_type": "stream",
     "text": [
      "(1, 2, 3)\n",
      "(4,)\n",
      "1 2 3\n",
      "4 5 6\n"
     ]
    }
   ],
   "source": [
    "# 팩킹 & 언팩킹\n",
    "t2 = 1, 2, 3 #괄호가 없어도 튜플\n",
    "t3 = 4,\n",
    "x1, x2, x3 = t2\n",
    "x4, x5, x6 = 4, 5, 6\n",
    "\n",
    "print(t2)\n",
    "print(t3)\n",
    "print(x1, x2, x3)\n",
    "print(x4, x5, x6)"
   ]
  }
 ],
 "metadata": {
  "kernelspec": {
   "display_name": "Python 3",
   "language": "python",
   "name": "python3"
  },
  "language_info": {
   "codemirror_mode": {
    "name": "ipython",
    "version": 3
   },
   "file_extension": ".py",
   "mimetype": "text/x-python",
   "name": "python",
   "nbconvert_exporter": "python",
   "pygments_lexer": "ipython3",
   "version": "3.8.5"
  }
 },
 "nbformat": 4,
 "nbformat_minor": 4
}
