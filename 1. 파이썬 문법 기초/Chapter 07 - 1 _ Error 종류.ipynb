{
 "cells": [
  {
   "cell_type": "markdown",
   "metadata": {},
   "source": [
    "# SyntaxError : 문법 오류\n",
    "- print('error)\n",
    "- print('error'))\n",
    "- if True\n",
    "-    pass"
   ]
  },
  {
   "cell_type": "markdown",
   "metadata": {},
   "source": [
    "# NameError : 참조 없음\n",
    "- a = 10\n",
    "- b = 15\n",
    "- print(c)"
   ]
  },
  {
   "cell_type": "markdown",
   "metadata": {},
   "source": [
    "# ZeroDivisionError\n",
    "- print(100 / 0)"
   ]
  },
  {
   "cell_type": "markdown",
   "metadata": {},
   "source": [
    "# IndexError\n",
    "- x = [50, 70, 90]\n",
    "-print(x[4])\n",
    "- print(x.pop())\n",
    "- print(x.pop())\n",
    "- print(x.pop())\n",
    "- print(x.pop())"
   ]
  },
  {
   "cell_type": "markdown",
   "metadata": {},
   "source": [
    "# KeyError\n",
    "- dic = {'name' : 'Lee', 'Age': 41, 'City': 'Busan'}\n",
    "- print(dic['hobby'])\n",
    "- print(dic.get('hobby'))"
   ]
  },
  {
   "cell_type": "markdown",
   "metadata": {},
   "source": [
    "# ValueError\n",
    "- x = [10, 50, 90]\n",
    "- x.remove(50)\n",
    "- print(x)\n",
    "- x.remove(200)"
   ]
  },
  {
   "cell_type": "markdown",
   "metadata": {},
   "source": [
    "# FileNotFoundError\n",
    "- f = open('test.txt')"
   ]
  },
  {
   "cell_type": "markdown",
   "metadata": {},
   "source": [
    "# TypeError : 자료형에 맞지 않는 연산을 수행\n",
    "- x = [1,2]\n",
    "- y = (1,2)\n",
    "- z = 'test'\n",
    "- print(x + y)\n",
    "- print(x + z)\n",
    "- print(y + z)\n",
    "- print(x + list(y))\n",
    "- print(x + list(z))"
   ]
  },
  {
   "cell_type": "code",
   "execution_count": null,
   "metadata": {},
   "outputs": [],
   "source": []
  }
 ],
 "metadata": {
  "kernelspec": {
   "display_name": "Python 3",
   "language": "python",
   "name": "python3"
  },
  "language_info": {
   "codemirror_mode": {
    "name": "ipython",
    "version": 3
   },
   "file_extension": ".py",
   "mimetype": "text/x-python",
   "name": "python",
   "nbconvert_exporter": "python",
   "pygments_lexer": "ipython3",
   "version": "3.8.5"
  }
 },
 "nbformat": 4,
 "nbformat_minor": 4
}
