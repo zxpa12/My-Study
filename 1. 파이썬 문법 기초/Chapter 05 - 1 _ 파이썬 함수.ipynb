{
 "cells": [
  {
   "cell_type": "markdown",
   "metadata": {},
   "source": [
    "## 파이썬 함수 및 중요성\n",
    "## 파이썬 함수식 및 람다(lambda)\n",
    "\n",
    "## 함수 정의 방법\n",
    "## def function_name(parameter):"
   ]
  },
  {
   "cell_type": "markdown",
   "metadata": {},
   "source": [
    "- 예제 1"
   ]
  },
  {
   "cell_type": "code",
   "execution_count": 2,
   "metadata": {},
   "outputs": [
    {
     "name": "stdout",
     "output_type": "stream",
     "text": [
      "Hello, Goodboy\n"
     ]
    }
   ],
   "source": [
    "def first_func(w):\n",
    "    print(\"Hello,\", w)\n",
    "word = \"Goodboy\"\n",
    "first_func(word)"
   ]
  },
  {
   "cell_type": "markdown",
   "metadata": {},
   "source": [
    "- 예제 2"
   ]
  },
  {
   "cell_type": "code",
   "execution_count": 3,
   "metadata": {},
   "outputs": [
    {
     "name": "stdout",
     "output_type": "stream",
     "text": [
      "Hello,Goodboy2\n"
     ]
    }
   ],
   "source": [
    "def return_func(w1):\n",
    "    value = 'Hello,' + str(w1)\n",
    "    return value\n",
    "\n",
    "x = return_func('Goodboy2')\n",
    "print(x)"
   ]
  },
  {
   "cell_type": "markdown",
   "metadata": {},
   "source": [
    "- 예제 3 / 다중반환"
   ]
  },
  {
   "cell_type": "code",
   "execution_count": 10,
   "metadata": {},
   "outputs": [
    {
     "name": "stdout",
     "output_type": "stream",
     "text": [
      "100 200 300\n"
     ]
    }
   ],
   "source": [
    "def func_mul(x):\n",
    "    y1 = x * 10\n",
    "    y2 = x * 20\n",
    "    y3 = x * 30\n",
    "    return y1, y2, y3\n",
    "a, b, c = func_mul(10)\n",
    "print(a, b, c)"
   ]
  },
  {
   "cell_type": "markdown",
   "metadata": {},
   "source": [
    "- 튜플 리턴"
   ]
  },
  {
   "cell_type": "code",
   "execution_count": 12,
   "metadata": {},
   "outputs": [
    {
     "name": "stdout",
     "output_type": "stream",
     "text": [
      "(200, 400, 600)\n"
     ]
    }
   ],
   "source": [
    "def func_mul2(x):\n",
    "    y1 = x * 10\n",
    "    y2 = x * 20\n",
    "    y3 = x * 30\n",
    "    return (y1, y2, y3)\n",
    "\n",
    "q = func_mul2(20)\n",
    "print(q)"
   ]
  },
  {
   "cell_type": "markdown",
   "metadata": {},
   "source": [
    "- 리스트 리턴"
   ]
  },
  {
   "cell_type": "code",
   "execution_count": 14,
   "metadata": {},
   "outputs": [
    {
     "name": "stdout",
     "output_type": "stream",
     "text": [
      "[300, 600, 900]\n"
     ]
    }
   ],
   "source": [
    "def func_mul2(x):\n",
    "    y1 = x * 10\n",
    "    y2 = x * 20\n",
    "    y3 = x * 30\n",
    "    return [y1, y2, y3]\n",
    "\n",
    "p = func_mul2(30)\n",
    "print(p)"
   ]
  },
  {
   "cell_type": "markdown",
   "metadata": {},
   "source": [
    "- 딕셔너리 리턴"
   ]
  },
  {
   "cell_type": "code",
   "execution_count": 16,
   "metadata": {},
   "outputs": [
    {
     "name": "stdout",
     "output_type": "stream",
     "text": [
      "{'v1': 300, 'v2': 600, 'v3': 900}\n"
     ]
    }
   ],
   "source": [
    "def func_mul3(x):\n",
    "    y1 = x * 10\n",
    "    y2 = x * 20\n",
    "    y3 = x * 30\n",
    "    return {'v1' :y1, 'v2' :y2, 'v3' :y3}\n",
    "\n",
    "d = func_mul3(30)\n",
    "print(d)"
   ]
  },
  {
   "cell_type": "markdown",
   "metadata": {},
   "source": [
    "## 람다식 예제\n",
    "- 메모리 절약, 가독성 향상, 코드 간결\n",
    "- 함수는 객체 생성 -> 리소스(메모리) 할당\n",
    "- 람다는 즉시 실행 함수(Heap 초기화) .> 메모리 초기화\n",
    "- 남발 시 가독성 오히려 감소"
   ]
  },
  {
   "cell_type": "code",
   "execution_count": 18,
   "metadata": {},
   "outputs": [
    {
     "name": "stdout",
     "output_type": "stream",
     "text": [
      "500\n"
     ]
    }
   ],
   "source": [
    "# 일반적 함수 - > 변수\n",
    "def mul_func(x, y):\n",
    "    return x * y\n",
    "q = mul_func(10, 50)\n",
    "print(q)"
   ]
  },
  {
   "cell_type": "code",
   "execution_count": 19,
   "metadata": {},
   "outputs": [
    {
     "name": "stdout",
     "output_type": "stream",
     "text": [
      "1000\n"
     ]
    }
   ],
   "source": [
    "mul_func_var = mul_func\n",
    "print(mul_func_var(20, 50))"
   ]
  },
  {
   "cell_type": "code",
   "execution_count": 20,
   "metadata": {},
   "outputs": [],
   "source": [
    "# 람다함수 - > 할당"
   ]
  },
  {
   "cell_type": "code",
   "execution_count": 25,
   "metadata": {},
   "outputs": [
    {
     "name": "stdout",
     "output_type": "stream",
     "text": [
      "2500\n"
     ]
    }
   ],
   "source": [
    "lambda_mul_func = lambda x,y : x * y\n",
    "print(lambda_mul_func(50, 50))"
   ]
  },
  {
   "cell_type": "code",
   "execution_count": 26,
   "metadata": {
    "scrolled": true
   },
   "outputs": [
    {
     "name": "stdout",
     "output_type": "stream",
     "text": [
      "2000000\n"
     ]
    }
   ],
   "source": [
    "def func_final(x, y, func):\n",
    "    print(x * y * func(100, 100))\n",
    "\n",
    "func_final(10, 20, lambda x, y : x * y)"
   ]
  }
 ],
 "metadata": {
  "kernelspec": {
   "display_name": "Python 3",
   "language": "python",
   "name": "python3"
  },
  "language_info": {
   "codemirror_mode": {
    "name": "ipython",
    "version": 3
   },
   "file_extension": ".py",
   "mimetype": "text/x-python",
   "name": "python",
   "nbconvert_exporter": "python",
   "pygments_lexer": "ipython3",
   "version": "3.8.5"
  }
 },
 "nbformat": 4,
 "nbformat_minor": 4
}
