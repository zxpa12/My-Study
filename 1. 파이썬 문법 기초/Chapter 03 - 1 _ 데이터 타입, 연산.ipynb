{
 "cells": [
  {
   "cell_type": "markdown",
   "metadata": {},
   "source": [
    "- int : 정수\n",
    "- float : 실수\n",
    "- complex : 복소수\n",
    "- bool : 불린 T/F\n",
    "- str : 문자열(시퀀스)\n",
    "- list : 리스트(시퀀스)\n",
    "- tuple : 튜플(시퀀스)\n",
    "- set : 집합\n",
    "- dict : 사전\n"
   ]
  },
  {
   "cell_type": "code",
   "execution_count": 2,
   "metadata": {},
   "outputs": [],
   "source": [
    "str1 = \"python\"\n",
    "bool = True\n",
    "str2 = 'Anaconda'\n",
    "float_v = 10.0 # 10 == 10.0 기계 입장에서는 다르다.\n",
    "int_v = 7\n",
    "list = [str1, str2]\n",
    "dict = {\n",
    "    \"name\": \"Machine Learning\",\n",
    "    \"version\": 2.0\n",
    "}\n",
    "tuple = (7, 8, 9)\n",
    "set = {3, 5, 7}"
   ]
  },
  {
   "cell_type": "code",
   "execution_count": 5,
   "metadata": {},
   "outputs": [
    {
     "name": "stdout",
     "output_type": "stream",
     "text": [
      "<class 'str'>\n",
      "<class 'bool'>\n",
      "<class 'str'>\n",
      "<class 'float'>\n",
      "<class 'int'>\n",
      "<class 'dict'>\n",
      "<class 'tuple'>\n",
      "<class 'set'>\n"
     ]
    }
   ],
   "source": [
    "print(type(str1))\n",
    "print(type(bool))\n",
    "print(type(str2))\n",
    "print(type(float_v))\n",
    "print(type(int_v))\n",
    "print(type(dict))\n",
    "print(type(tuple))\n",
    "print(type(set))"
   ]
  },
  {
   "cell_type": "markdown",
   "metadata": {},
   "source": [
    "### 숫자형 연산자\n",
    "- +\n",
    "- -\n",
    "- *\n",
    "- /\n",
    "- // : 몫 반환\n",
    "- % : 나머지 반환\n",
    "- abs : 절댓값\n",
    "- pow(x, y) x**y -> 2 ** 3 = 8 x의 y제곱\n"
   ]
  },
  {
   "cell_type": "markdown",
   "metadata": {},
   "source": [
    "================================================="
   ]
  },
  {
   "cell_type": "markdown",
   "metadata": {},
   "source": [
    "### 연산실습"
   ]
  },
  {
   "cell_type": "code",
   "execution_count": 6,
   "metadata": {},
   "outputs": [],
   "source": [
    "i1 = 39\n",
    "i2 = 939\n",
    "big_int1 = 77777777777777777777779999999999999999999999993434\n",
    "big_int2 = 13515315646531531564315345345343465465468486468464\n",
    "f1 = 1.234\n",
    "f2 = 3.939"
   ]
  },
  {
   "cell_type": "markdown",
   "metadata": {},
   "source": [
    "- 덧셈"
   ]
  },
  {
   "cell_type": "code",
   "execution_count": 7,
   "metadata": {},
   "outputs": [
    {
     "name": "stdout",
     "output_type": "stream",
     "text": [
      "i1 + i2 :  978\n",
      "f1 + f2 :  5.173\n",
      "big_int1 + big_int2:  91293093424309309342095345345343465465468486461898\n"
     ]
    }
   ],
   "source": [
    "print(\"i1 + i2 : \", i1 + i2)\n",
    "print(\"f1 + f2 : \", f1 + f2)\n",
    "print(\"big_int1 + big_int2: \", big_int1 +big_int2)"
   ]
  },
  {
   "cell_type": "markdown",
   "metadata": {},
   "source": [
    "- 곱셈"
   ]
  },
  {
   "cell_type": "code",
   "execution_count": 8,
   "metadata": {},
   "outputs": [
    {
     "name": "stdout",
     "output_type": "stream",
     "text": [
      "i1 * i2 :  36621\n",
      "f1 * f2 :  4.860726\n",
      "big_int1 * big_int2:  1051191216952452455002334672005928495162136314892559200721463893718635362462474805753733917848065376\n"
     ]
    }
   ],
   "source": [
    "print(\"i1 * i2 : \", i1 * i2)\n",
    "print(\"f1 * f2 : \", f1 * f2)\n",
    "print(\"big_int1 * big_int2: \", big_int1 * big_int2)"
   ]
  },
  {
   "cell_type": "markdown",
   "metadata": {},
   "source": [
    "### 형 변환 실습"
   ]
  },
  {
   "cell_type": "code",
   "execution_count": 10,
   "metadata": {},
   "outputs": [],
   "source": [
    "a = 3.\n",
    "b = 6\n",
    "c = .7\n",
    "d = 12.7"
   ]
  },
  {
   "cell_type": "code",
   "execution_count": 11,
   "metadata": {},
   "outputs": [
    {
     "data": {
      "text/plain": [
       "(float, int, float, float)"
      ]
     },
     "execution_count": 11,
     "metadata": {},
     "output_type": "execute_result"
    }
   ],
   "source": [
    "type(a), type(b), type(c), type(d)"
   ]
  },
  {
   "cell_type": "code",
   "execution_count": 12,
   "metadata": {},
   "outputs": [
    {
     "name": "stdout",
     "output_type": "stream",
     "text": [
      "6.0\n",
      "0\n",
      "12\n",
      "1\n",
      "0.0\n",
      "(3+0j)\n",
      "(3+0j)\n",
      "0j\n"
     ]
    }
   ],
   "source": [
    "print(float(b))\n",
    "print(int(c))\n",
    "print(int(d))\n",
    "print(int(True)) # True = 1 , False = 0\n",
    "print(float(False))\n",
    "print(complex(3))\n",
    "print(complex('3'))  # 문자형 -> 숫자형\n",
    "print(complex(False))"
   ]
  },
  {
   "cell_type": "markdown",
   "metadata": {},
   "source": [
    "### 수치 연산 함수"
   ]
  },
  {
   "cell_type": "code",
   "execution_count": 13,
   "metadata": {},
   "outputs": [
    {
     "name": "stdout",
     "output_type": "stream",
     "text": [
      "7\n",
      "12 4\n",
      "125 125\n"
     ]
    }
   ],
   "source": [
    "print(abs(-7))\n",
    "x, y = divmod(100, 8) #x는 몫, y는 나머지\n",
    "print(x,y)\n",
    "print(pow(5,3), 5 ** 3)"
   ]
  },
  {
   "cell_type": "code",
   "execution_count": 14,
   "metadata": {},
   "outputs": [
    {
     "name": "stdout",
     "output_type": "stream",
     "text": [
      "6\n",
      "3.141592653589793\n"
     ]
    }
   ],
   "source": [
    "import math\n",
    "\n",
    "print(math.ceil(5.1)) # x 이상의 수 중에서 가장 작은 정수\n",
    "print(math.pi)"
   ]
  }
 ],
 "metadata": {
  "kernelspec": {
   "display_name": "Python 3",
   "language": "python",
   "name": "python3"
  },
  "language_info": {
   "codemirror_mode": {
    "name": "ipython",
    "version": 3
   },
   "file_extension": ".py",
   "mimetype": "text/x-python",
   "name": "python",
   "nbconvert_exporter": "python",
   "pygments_lexer": "ipython3",
   "version": "3.8.5"
  }
 },
 "nbformat": 4,
 "nbformat_minor": 4
}
