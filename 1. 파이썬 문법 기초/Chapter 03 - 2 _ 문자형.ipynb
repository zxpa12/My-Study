{
 "cells": [
  {
   "cell_type": "code",
   "execution_count": 1,
   "metadata": {},
   "outputs": [],
   "source": [
    "str1 = \"I am Python\"\n",
    "str2 = 'Python'\n",
    "str3 = \"\"\"How are you?\"\"\"\n",
    "str4 = '''Thank you!'''"
   ]
  },
  {
   "cell_type": "code",
   "execution_count": 4,
   "metadata": {},
   "outputs": [
    {
     "name": "stdout",
     "output_type": "stream",
     "text": [
      "<class 'str'> <class 'str'> <class 'str'> <class 'str'>\n",
      "11 6 12 10\n"
     ]
    }
   ],
   "source": [
    "print(type(str1), type(str2), type(str3), type(str4))\n",
    "print(len(str1), len(str2), len(str3), len(str4)) #공백 길이를 포함하여 길이를 재준다."
   ]
  },
  {
   "cell_type": "markdown",
   "metadata": {},
   "source": [
    "- 빈문자 열"
   ]
  },
  {
   "cell_type": "code",
   "execution_count": 6,
   "metadata": {},
   "outputs": [],
   "source": [
    "str1_t1 = ''\n",
    "str2_t2 = str()"
   ]
  },
  {
   "cell_type": "code",
   "execution_count": 7,
   "metadata": {},
   "outputs": [
    {
     "name": "stdout",
     "output_type": "stream",
     "text": [
      "<class 'str'> 0\n",
      "<class 'str'> 0\n"
     ]
    }
   ],
   "source": [
    "print(type(str1_t1), len(str1_t1))\n",
    "print(type(str2_t2), len(str2_t2))"
   ]
  },
  {
   "cell_type": "markdown",
   "metadata": {},
   "source": [
    "- 이스케이프 문자"
   ]
  },
  {
   "cell_type": "code",
   "execution_count": 9,
   "metadata": {},
   "outputs": [
    {
     "name": "stdout",
     "output_type": "stream",
     "text": [
      "I'm Boy\n",
      "I'm boy\n",
      "a \t b\n",
      "a \n",
      "b\n",
      "a \"\" b\n",
      "Do you have a \"retro games\"?\n",
      "What's on TV?\n"
     ]
    }
   ],
   "source": [
    "print(\"I'm Boy\")\n",
    "print('I\\'m boy')\n",
    "\n",
    "print('a \\t b') #키보드의 tap 키만큼 간격이 벌어짐\n",
    "print('a \\nb') #줄바꿈\n",
    "print('a \\\"\\\" b')\n",
    "\n",
    "escape_str1 = \"Do you have a \\\"retro games\\\"?\"\n",
    "print(escape_str1)\n",
    "\n",
    "escape_str2 = \"What\\'s on TV?\"\n",
    "print(escape_str2)\n"
   ]
  },
  {
   "cell_type": "code",
   "execution_count": 12,
   "metadata": {},
   "outputs": [
    {
     "name": "stdout",
     "output_type": "stream",
     "text": [
      "Click \t Start!\n",
      "New Line \n",
      "Check!\n"
     ]
    }
   ],
   "source": [
    "t_s1 = \"Click \\t Start!\"\n",
    "t_s2 = \"New Line \\nCheck!\"\n",
    "\n",
    "print(t_s1)\n",
    "print(t_s2)"
   ]
  },
  {
   "cell_type": "markdown",
   "metadata": {},
   "source": [
    "- Raw String 출력 / 이스케이프x 역슬래시를 그대로  싶을때"
   ]
  },
  {
   "cell_type": "code",
   "execution_count": 13,
   "metadata": {},
   "outputs": [
    {
     "name": "stdout",
     "output_type": "stream",
     "text": [
      "D:\\python\\test\n"
     ]
    }
   ],
   "source": [
    "raw_s = r'D:\\python\\test'\n",
    "print(raw_s)"
   ]
  },
  {
   "cell_type": "markdown",
   "metadata": {},
   "source": [
    "- 멀티라인 입력"
   ]
  },
  {
   "cell_type": "code",
   "execution_count": 15,
   "metadata": {},
   "outputs": [
    {
     "name": "stdout",
     "output_type": "stream",
     "text": [
      "\n",
      "String\n",
      "Multi Line\n",
      "test\n",
      "\n"
     ]
    }
   ],
   "source": [
    "multi_str = \\\n",
    "\"\"\"\n",
    "String\n",
    "Multi Line\n",
    "test\n",
    "\"\"\"\n",
    "\n",
    "print(multi_str)"
   ]
  },
  {
   "cell_type": "markdown",
   "metadata": {},
   "source": [
    "- 문자열 연산"
   ]
  },
  {
   "cell_type": "code",
   "execution_count": 16,
   "metadata": {},
   "outputs": [],
   "source": [
    "str_o1 = 'Python'\n",
    "str_o2 = 'Apple'\n",
    "str_o3 = 'How are you doing'\n",
    "str_o4 = 'Seoul Daejeon Busan Jinju'"
   ]
  },
  {
   "cell_type": "code",
   "execution_count": 17,
   "metadata": {},
   "outputs": [
    {
     "name": "stdout",
     "output_type": "stream",
     "text": [
      "PythonPythonPython\n",
      "PythonApple\n",
      "True\n",
      "True\n",
      "True\n"
     ]
    }
   ],
   "source": [
    "print(str_o1 * 3)\n",
    "print(str_o1 + str_o2)\n",
    "print('y' in str_o1) #str_o1에 y가 있나요? True or False\n",
    "print('n' in str_o1)\n",
    "print('P' not in str_o2) # 대소문자 구분"
   ]
  },
  {
   "cell_type": "markdown",
   "metadata": {},
   "source": [
    "- 문자열 형 변환"
   ]
  },
  {
   "cell_type": "code",
   "execution_count": 18,
   "metadata": {},
   "outputs": [
    {
     "name": "stdout",
     "output_type": "stream",
     "text": [
      "66 <class 'str'>\n",
      "10.1 <class 'str'>\n",
      "True <class 'str'>\n"
     ]
    }
   ],
   "source": [
    "print(str(66), type(str(66)))\n",
    "print(str(10.1), type(str(10.1)))\n",
    "print(str(True), type(str(True)))"
   ]
  },
  {
   "cell_type": "markdown",
   "metadata": {},
   "source": [
    "- 문자열 함수 (upperm isalnum, startwith, count, endswith, isalpha...)"
   ]
  },
  {
   "cell_type": "code",
   "execution_count": 19,
   "metadata": {},
   "outputs": [
    {
     "name": "stdout",
     "output_type": "stream",
     "text": [
      "Capitalize:  Python\n",
      "endswith?:  True\n",
      "replace PyGood\n",
      "sorted:  ['P', 'h', 'n', 'o', 't', 'y']\n",
      "split:  ['Seoul', 'Daejeon', 'Busan', 'Jinju']\n"
     ]
    }
   ],
   "source": [
    "print('Capitalize: ', str_o1.capitalize()) #첫번째 글자를 대문자로 바꿔줌\n",
    "print('endswith?: ', str_o2.endswith(\"e\")) #마지막 문자가 \"\"안에 인지 T/F 로 알려줌\n",
    "print('replace', str_o1.replace(\"thon\", 'Good')) #thon -> good 으로 바꿈\n",
    "print('sorted: ', sorted(str_o1)) #문자열을 입력받아서 list 형태로 반환\n",
    "print('split: ', str_o4.split(' ')) # 특정 단어나 문장을 분리할때 쓰임"
   ]
  },
  {
   "cell_type": "markdown",
   "metadata": {},
   "source": [
    "- 슬라이싱"
   ]
  },
  {
   "cell_type": "code",
   "execution_count": 20,
   "metadata": {},
   "outputs": [],
   "source": [
    "str_s1 = 'Nice Python'"
   ]
  },
  {
   "cell_type": "code",
   "execution_count": 22,
   "metadata": {},
   "outputs": [
    {
     "name": "stdout",
     "output_type": "stream",
     "text": [
      "Nic\n",
      "Python\n",
      "Nice Python\n",
      "Nice Pytho\n",
      "ie\n",
      "ython\n",
      "ice Pyth\n",
      "Nc yhn\n",
      "nohtyP eciN\n",
      "ice Pytho\n"
     ]
    }
   ],
   "source": [
    "print(str_s1[0:3]) # 0부터 3 - 1 , / 0 ,1 ,2 나옴\n",
    "print(str_s1[5:]) # 5부터 끝까지 가져와 = [5:11]\n",
    "print(str_s1[:len(str_s1)]) #str_s1[:11]\n",
    "print(str_s1[:len(str_s1)-1]) #str_s1[:10]\n",
    "print(str_s1[1:4:2]) # 1부터 4까지 2칸띄고 가져와\n",
    "print(str_s1[-5:])\n",
    "print(str_s1[1:-2])\n",
    "print(str_s1[::2]) #처음부터 끝까지 두칸 간격으로\n",
    "print(str_s1[::-1]) # 역으로 출력\n",
    "print(str_s1[1:-1])"
   ]
  }
 ],
 "metadata": {
  "kernelspec": {
   "display_name": "Python 3",
   "language": "python",
   "name": "python3"
  },
  "language_info": {
   "codemirror_mode": {
    "name": "ipython",
    "version": 3
   },
   "file_extension": ".py",
   "mimetype": "text/x-python",
   "name": "python",
   "nbconvert_exporter": "python",
   "pygments_lexer": "ipython3",
   "version": "3.8.5"
  }
 },
 "nbformat": 4,
 "nbformat_minor": 4
}
