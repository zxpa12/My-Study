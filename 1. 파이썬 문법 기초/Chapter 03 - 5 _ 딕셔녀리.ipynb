{
 "cells": [
  {
   "cell_type": "markdown",
   "metadata": {},
   "source": [
    "## 파이썬 딕셔너리\n",
    "## 범용적으로 가장 많이 사용 (JSON)\n",
    "## 딕셔너리 자료형(순서x, 키 중복x, 수정o, 삭제o)"
   ]
  },
  {
   "cell_type": "markdown",
   "metadata": {},
   "source": [
    "- 선언"
   ]
  },
  {
   "cell_type": "code",
   "execution_count": 1,
   "metadata": {},
   "outputs": [],
   "source": [
    "a = {'name': 'Kim', 'Phone': '01033337777', 'Birth': '870514'}\n",
    "b = {0: 'Hello Python'}\n",
    "c = {'arr': [1, 2, 3, 4]}\n",
    "d = {\n",
    "    'Name': 'Niceman',\n",
    "    'City': 'Seoul',\n",
    "    'Age': 33,\n",
    "    'Grade': 'A',\n",
    "    'Status': True\n",
    "}\n",
    "e = dict([\n",
    "    ('Name', 'Niceman'),\n",
    "    ('City', 'Seoul'),\n",
    "    ('Age', 33),\n",
    "    ('Grade', 'A'),\n",
    "    ('Status', True)\n",
    "])\n",
    "\n",
    "f = dict(\n",
    "    Name= 'Niceman',\n",
    "    City= 'Seoul',\n",
    "    Age= 33,\n",
    "    Grade= 'A',\n",
    "    Status= True\n",
    ")"
   ]
  },
  {
   "cell_type": "code",
   "execution_count": 2,
   "metadata": {},
   "outputs": [
    {
     "name": "stdout",
     "output_type": "stream",
     "text": [
      "a - <class 'dict'> {'name': 'Kim', 'Phone': '01033337777', 'Birth': '870514'}\n",
      "b - <class 'dict'> {0: 'Hello Python'}\n",
      "c - <class 'dict'> {'arr': [1, 2, 3, 4]}\n",
      "d - <class 'dict'> {'Name': 'Niceman', 'City': 'Seoul', 'Age': 33, 'Grade': 'A', 'Status': True}\n",
      "e - <class 'dict'> {'Name': 'Niceman', 'City': 'Seoul', 'Age': 33, 'Grade': 'A', 'Status': True}\n",
      "f - <class 'dict'> {'Name': 'Niceman', 'City': 'Seoul', 'Age': 33, 'Grade': 'A', 'Status': True}\n"
     ]
    }
   ],
   "source": [
    "print('a -', type(a), a)\n",
    "print('b -', type(b), b)\n",
    "print('c -', type(c), c)\n",
    "print('d -', type(d), d)\n",
    "print('e -', type(e), e)\n",
    "print('f -', type(f), f)"
   ]
  },
  {
   "cell_type": "markdown",
   "metadata": {},
   "source": [
    "- 출력"
   ]
  },
  {
   "cell_type": "code",
   "execution_count": 3,
   "metadata": {},
   "outputs": [
    {
     "name": "stdout",
     "output_type": "stream",
     "text": [
      "a - Kim\n",
      "a - Kim\n",
      "b - Hello Python\n",
      "b - Hello Python\n",
      "f - Seoul\n",
      "f - 33\n"
     ]
    }
   ],
   "source": [
    "print('a -', a['name'])\n",
    "print('a -', a.get('name')) #키가 없으면 None 으로 나오면서 에러가 나오지 않음\n",
    "print('b -', b[0])\n",
    "print('b -', b.get(0))\n",
    "print('f -', f.get('City'))\n",
    "print('f -', f.get('Age'))"
   ]
  },
  {
   "cell_type": "markdown",
   "metadata": {},
   "source": [
    "- 딕셔너리 추가"
   ]
  },
  {
   "cell_type": "code",
   "execution_count": 4,
   "metadata": {},
   "outputs": [
    {
     "name": "stdout",
     "output_type": "stream",
     "text": [
      "a-  {'name': 'Kim', 'Phone': '01033337777', 'Birth': '870514', 'Address': 'Seoul'}\n",
      "a - {'name': 'Kim', 'Phone': '01033337777', 'Birth': '870514', 'Address': 'Seoul', 'Rank': [1, 2, 3]}\n"
     ]
    }
   ],
   "source": [
    "a['Address'] = 'Seoul'\n",
    "print('a- ', a)\n",
    "a['Rank'] = [1,2,3]\n",
    "print('a -', a)"
   ]
  },
  {
   "cell_type": "markdown",
   "metadata": {},
   "source": [
    "- 딕셔너리 길이"
   ]
  },
  {
   "cell_type": "code",
   "execution_count": 5,
   "metadata": {},
   "outputs": [
    {
     "name": "stdout",
     "output_type": "stream",
     "text": [
      "a - 5\n",
      "b - 1\n",
      "c - 1\n",
      "d - 5\n",
      "e - 5\n"
     ]
    }
   ],
   "source": [
    "# 딕셔너리 길이\n",
    "print('a -', len(a))\n",
    "print('b -', len(b))\n",
    "print('c -', len(c))\n",
    "print('d -', len(d))\n",
    "print('e -', len(e))"
   ]
  },
  {
   "cell_type": "markdown",
   "metadata": {},
   "source": [
    "- 딕셔너리 key값 "
   ]
  },
  {
   "cell_type": "code",
   "execution_count": 10,
   "metadata": {},
   "outputs": [
    {
     "name": "stdout",
     "output_type": "stream",
     "text": [
      "a - dict_keys(['name', 'Phone', 'Birth', 'Address', 'Rank'])\n",
      "b - dict_keys([0])\n",
      "c - dict_keys(['arr'])\n",
      "d - dict_keys(['Name', 'City', 'Age', 'Grade', 'Status'])\n",
      "a - ['name', 'Phone', 'Birth', 'Address', 'Rank']\n",
      "b - [0]\n"
     ]
    }
   ],
   "source": [
    "print('a -', a.keys())\n",
    "print('b -', b.keys())\n",
    "print('c -', c.keys())\n",
    "print('d -', d.keys())\n",
    "print('a -', list(a.keys())) # 리스트로 담아옴\n",
    "print('b -', list(b.keys()))"
   ]
  },
  {
   "cell_type": "markdown",
   "metadata": {},
   "source": [
    "- 딕셔너리 value값"
   ]
  },
  {
   "cell_type": "code",
   "execution_count": 11,
   "metadata": {},
   "outputs": [
    {
     "name": "stdout",
     "output_type": "stream",
     "text": [
      "a - dict_values(['Kim', '01033337777', '870514', 'Seoul', [1, 2, 3]])\n",
      "b - dict_values(['Hello Python'])\n",
      "c - dict_values([[1, 2, 3, 4]])\n",
      "a - ['Kim', '01033337777', '870514', 'Seoul', [1, 2, 3]]\n",
      "a - ['Kim', '01033337777', '870514', 'Seoul', [1, 2, 3]]\n"
     ]
    }
   ],
   "source": [
    "print('a -', a.values())\n",
    "print('b -', b.values())\n",
    "print('c -', c.values())\n",
    "print('a -', list(a.values()))\n",
    "print('a -', list(a.values()))"
   ]
  },
  {
   "cell_type": "markdown",
   "metadata": {},
   "source": [
    "- items 함수 = key, value 값 다 가져옴"
   ]
  },
  {
   "cell_type": "code",
   "execution_count": 13,
   "metadata": {},
   "outputs": [
    {
     "name": "stdout",
     "output_type": "stream",
     "text": [
      "a - dict_items([('name', 'Kim'), ('Phone', '01033337777'), ('Birth', '870514'), ('Address', 'Seoul'), ('Rank', [1, 2, 3])])\n",
      "b - dict_items([(0, 'Hello Python')])\n",
      "c - dict_items([('arr', [1, 2, 3, 4])])\n"
     ]
    }
   ],
   "source": [
    "print('a -', a.items())\n",
    "print('b -', b.items())\n",
    "print('c -', c.items())"
   ]
  },
  {
   "cell_type": "code",
   "execution_count": 15,
   "metadata": {},
   "outputs": [
    {
     "name": "stdout",
     "output_type": "stream",
     "text": [
      "a - [('name', 'Kim'), ('Phone', '01033337777'), ('Birth', '870514'), ('Address', 'Seoul'), ('Rank', [1, 2, 3])]\n",
      "b - [(0, 'Hello Python')]\n"
     ]
    }
   ],
   "source": [
    "# 리스트의 형태로 가져옴\n",
    "print('a -', list(a.items()))\n",
    "print('b -', list(b.items()))"
   ]
  },
  {
   "cell_type": "markdown",
   "metadata": {},
   "source": [
    "- pop 함수를 통해 삭제하기 , popitem 함수는 무작위로 삭제"
   ]
  },
  {
   "cell_type": "code",
   "execution_count": 16,
   "metadata": {},
   "outputs": [
    {
     "name": "stdout",
     "output_type": "stream",
     "text": [
      "a - Kim\n",
      "a - {'Phone': '01033337777', 'Birth': '870514', 'Address': 'Seoul', 'Rank': [1, 2, 3]}\n",
      "c - [1, 2, 3, 4]\n",
      "c - {}\n"
     ]
    }
   ],
   "source": [
    "print('a -', a.pop('name'))\n",
    "print('a -', a)\n",
    "\n",
    "\n",
    "print('c -', c.pop('arr'))\n",
    "print('c -', c)"
   ]
  },
  {
   "cell_type": "markdown",
   "metadata": {},
   "source": [
    "- a 안에 birth가 있어?"
   ]
  },
  {
   "cell_type": "code",
   "execution_count": 18,
   "metadata": {},
   "outputs": [
    {
     "name": "stdout",
     "output_type": "stream",
     "text": [
      "a - True\n",
      "d - True\n"
     ]
    }
   ],
   "source": [
    "print('a -', 'Birth' in a)\n",
    "print('d -', 'City' in d)"
   ]
  },
  {
   "cell_type": "markdown",
   "metadata": {},
   "source": [
    "- 수정"
   ]
  },
  {
   "cell_type": "code",
   "execution_count": 21,
   "metadata": {},
   "outputs": [
    {
     "name": "stdout",
     "output_type": "stream",
     "text": [
      "a - {'Phone': '01033337777', 'Birth': '870514', 'Address': 'Seoul', 'Rank': [1, 2, 3], 'test': 'test_dict'}\n"
     ]
    }
   ],
   "source": [
    "a['test'] = 'test_dict'\n",
    "print('a -', a)"
   ]
  },
  {
   "cell_type": "code",
   "execution_count": 24,
   "metadata": {
    "scrolled": true
   },
   "outputs": [
    {
     "name": "stdout",
     "output_type": "stream",
     "text": [
      "a-  {'Phone': '01033337777', 'Birth': '971024', 'Address': 'Busan', 'Rank': [1, 2, 3], 'test': 'test_dict'}\n"
     ]
    }
   ],
   "source": [
    "a.update(Birth='971024')\n",
    "print('a- ', a)"
   ]
  },
  {
   "cell_type": "code",
   "execution_count": 25,
   "metadata": {},
   "outputs": [
    {
     "name": "stdout",
     "output_type": "stream",
     "text": [
      "a - {'Phone': '01033337777', 'Birth': '971024', 'Address': 'Busan', 'Rank': [1, 2, 3], 'test': 'test_dict'}\n"
     ]
    }
   ],
   "source": [
    "temp = {'Address': 'Busan'}\n",
    "a.update(temp)\n",
    "print('a -', a)"
   ]
  }
 ],
 "metadata": {
  "kernelspec": {
   "display_name": "Python 3",
   "language": "python",
   "name": "python3"
  },
  "language_info": {
   "codemirror_mode": {
    "name": "ipython",
    "version": 3
   },
   "file_extension": ".py",
   "mimetype": "text/x-python",
   "name": "python",
   "nbconvert_exporter": "python",
   "pygments_lexer": "ipython3",
   "version": "3.8.5"
  }
 },
 "nbformat": 4,
 "nbformat_minor": 4
}
