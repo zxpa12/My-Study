{
 "cells": [
  {
   "cell_type": "markdown",
   "metadata": {},
   "source": [
    "# 파이썬 클래스\n",
    "- OOP(객체 지향 프로그래밍), Self, 인스턴스 메소드, 인스턴스 변수\n",
    "- 클래스 and 인스턴스 차이 이해\n",
    "- 네임스페이스 : 객체를 인스턴스화 할 때 저장된 공간\n",
    "- 클래스 변수 : 직접 접근 가능\n",
    "- 인스턴스 변수 : 객체마다 별도 존재"
   ]
  },
  {
   "cell_type": "markdown",
   "metadata": {},
   "source": [
    "### 예제 1"
   ]
  },
  {
   "cell_type": "code",
   "execution_count": 5,
   "metadata": {},
   "outputs": [
    {
     "name": "stdout",
     "output_type": "stream",
     "text": [
      "<class '__main__.Dog'>\n"
     ]
    }
   ],
   "source": [
    "class Dog:\n",
    "    species = 'firstdog'\n",
    "    \n",
    "    def __init__(self, name, age):\n",
    "        self.name = name\n",
    "        self.age =age\n",
    "print(Dog)"
   ]
  },
  {
   "cell_type": "markdown",
   "metadata": {},
   "source": [
    "- 인스턴스화, 비교"
   ]
  },
  {
   "cell_type": "code",
   "execution_count": 7,
   "metadata": {},
   "outputs": [
    {
     "name": "stdout",
     "output_type": "stream",
     "text": [
      "False 2852705879952 2852705879424\n"
     ]
    }
   ],
   "source": [
    "a = Dog(\"mikky\", 2)\n",
    "b = Dog(\"Baby\", 3)\n",
    "print(a == b, id(a), id(b))"
   ]
  },
  {
   "cell_type": "markdown",
   "metadata": {},
   "source": [
    "- 네임스페이스"
   ]
  },
  {
   "cell_type": "code",
   "execution_count": 19,
   "metadata": {},
   "outputs": [
    {
     "name": "stdout",
     "output_type": "stream",
     "text": [
      "dog1 {'name': 'mikky', 'age': 2}\n",
      "dog2 {'name': 'Baby', 'age': 3}\n"
     ]
    }
   ],
   "source": [
    "print('dog1', a.__dict__)\n",
    "print('dog2', b.__dict__)"
   ]
  },
  {
   "cell_type": "markdown",
   "metadata": {},
   "source": [
    "### 예제 2"
   ]
  },
  {
   "cell_type": "markdown",
   "metadata": {},
   "source": [
    "- self의 이해"
   ]
  },
  {
   "cell_type": "code",
   "execution_count": 21,
   "metadata": {},
   "outputs": [
    {
     "name": "stdout",
     "output_type": "stream",
     "text": [
      "func1 callded\n",
      "None\n",
      "func2 called\n",
      "None\n"
     ]
    }
   ],
   "source": [
    "class SelfTest:\n",
    "    def func1():\n",
    "        print('func1 callded')\n",
    "    def func2(self):\n",
    "        print('func2 called')\n",
    "f = SelfTest()\n",
    "print(SelfTest.func1())\n",
    "print(f.func2())"
   ]
  },
  {
   "cell_type": "markdown",
   "metadata": {},
   "source": [
    "## 예제 3"
   ]
  },
  {
   "cell_type": "markdown",
   "metadata": {},
   "source": [
    "- 클래스 변수, 인스턴스 변수"
   ]
  },
  {
   "cell_type": "code",
   "execution_count": 22,
   "metadata": {},
   "outputs": [
    {
     "name": "stdout",
     "output_type": "stream",
     "text": [
      "2\n",
      "Lee\n",
      "Cho\n",
      "{'name': 'Lee'}\n",
      "{'name': 'Cho'}\n",
      "before {'__module__': '__main__', 'stock_num': 2, '__init__': <function Warehouse.__init__ at 0x000002983293BB80>, '__del__': <function Warehouse.__del__ at 0x000002983293BAF0>, '__dict__': <attribute '__dict__' of 'Warehouse' objects>, '__weakref__': <attribute '__weakref__' of 'Warehouse' objects>, '__doc__': None}\n",
      ">>> 2\n",
      "after {'__module__': '__main__', 'stock_num': 1, '__init__': <function Warehouse.__init__ at 0x000002983293BB80>, '__del__': <function Warehouse.__del__ at 0x000002983293BAF0>, '__dict__': <attribute '__dict__' of 'Warehouse' objects>, '__weakref__': <attribute '__weakref__' of 'Warehouse' objects>, '__doc__': None}\n"
     ]
    }
   ],
   "source": [
    "class Warehouse:\n",
    "    # 클래스 변수\n",
    "    stock_num = 0 # 재고\n",
    "\n",
    "    def __init__(self, name):\n",
    "        # 인스턴스 변수\n",
    "        self.name = name\n",
    "        Warehouse.stock_num += 1\n",
    "\n",
    "    def __del__(self):\n",
    "        Warehouse.stock_num -= 1\n",
    "\n",
    "user1 = Warehouse('Lee')\n",
    "user2 = Warehouse('Cho')\n",
    "\n",
    "print(Warehouse.stock_num)\n",
    "# Warehouse.stock_num = 50\n",
    "print(user1.name)\n",
    "print(user2.name)\n",
    "print(user1.__dict__)\n",
    "print(user2.__dict__)\n",
    "print('before', Warehouse.__dict__)\n",
    "print('>>>', user1.stock_num)\n",
    "\n",
    "\n",
    "del user1\n",
    "print('after', Warehouse.__dict__)"
   ]
  },
  {
   "cell_type": "markdown",
   "metadata": {},
   "source": [
    "## 예제 4"
   ]
  },
  {
   "cell_type": "code",
   "execution_count": 23,
   "metadata": {},
   "outputs": [
    {
     "name": "stdout",
     "output_type": "stream",
     "text": [
      "july is 4 years old\n",
      "Marry is 10 years old\n",
      "july says Wal Wal!\n",
      "Marry says Mung Mung!\n"
     ]
    }
   ],
   "source": [
    "class Dog: # object 상속\n",
    "    # 클래스 속성\n",
    "    species = 'firstdog'\n",
    "\n",
    "    # 초기화 / 인스턴스 속성\n",
    "    def __init__(self, name, age):\n",
    "        self.name = name\n",
    "        self.age = age\n",
    "\n",
    "    def info(self):\n",
    "        return '{} is {} years old'.format(self.name, self.age)\n",
    "\n",
    "    def speak(self, sound):\n",
    "        return '{} says {}!'.format(self.name, sound)\n",
    "\n",
    "# 인스턴스 생성\n",
    "c = Dog('july', 4)\n",
    "d = Dog('Marry', 10)\n",
    "# 메소드 호출\n",
    "print(c.info())\n",
    "print(d.info())\n",
    "# 메소드 호출\n",
    "print(c.speak('Wal Wal'))\n",
    "print(d.speak('Mung Mung'))"
   ]
  },
  {
   "cell_type": "code",
   "execution_count": null,
   "metadata": {},
   "outputs": [],
   "source": []
  }
 ],
 "metadata": {
  "kernelspec": {
   "display_name": "Python 3",
   "language": "python",
   "name": "python3"
  },
  "language_info": {
   "codemirror_mode": {
    "name": "ipython",
    "version": 3
   },
   "file_extension": ".py",
   "mimetype": "text/x-python",
   "name": "python",
   "nbconvert_exporter": "python",
   "pygments_lexer": "ipython3",
   "version": "3.8.5"
  }
 },
 "nbformat": 4,
 "nbformat_minor": 4
}
