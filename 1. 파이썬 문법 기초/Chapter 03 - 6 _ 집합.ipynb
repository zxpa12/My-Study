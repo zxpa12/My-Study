{
 "cells": [
  {
   "cell_type": "markdown",
   "metadata": {},
   "source": [
    "## 집합(set) 특징\n",
    "## 집합(set), 자료형(순서x, 중복x)"
   ]
  },
  {
   "cell_type": "markdown",
   "metadata": {},
   "source": [
    "- 선언"
   ]
  },
  {
   "cell_type": "code",
   "execution_count": 1,
   "metadata": {},
   "outputs": [],
   "source": [
    "a = set()\n",
    "b = set([1, 2, 3, 4])\n",
    "c = set([1, 4, 5, 6])\n",
    "d = set([1, 2, 'Pen', 'Cap', 'Plate'])\n",
    "e = {'foo', 'bar', 'baz', 'foo', 'qux'} # 키 없이 나열하면 딕셔너리x, 집합optimize\n",
    "f = {42, 'foo', (1,2,3), 3.14}"
   ]
  },
  {
   "cell_type": "code",
   "execution_count": 2,
   "metadata": {},
   "outputs": [
    {
     "name": "stdout",
     "output_type": "stream",
     "text": [
      "a-  <class 'set'> set()\n",
      "b-  <class 'set'> {1, 2, 3, 4}\n",
      "c-  <class 'set'> {1, 4, 5, 6}\n",
      "d-  <class 'set'> {1, 2, 'Pen', 'Plate', 'Cap'}\n",
      "e-  <class 'set'> {'qux', 'bar', 'foo', 'baz'}\n",
      "f-  <class 'set'> {3.14, 42, (1, 2, 3), 'foo'}\n"
     ]
    }
   ],
   "source": [
    "print('a- ', type(a), a)\n",
    "print('b- ', type(b), b)\n",
    "print('c- ', type(c), c)\n",
    "print('d- ', type(d), d)\n",
    "print('e- ', type(e), e)\n",
    "print('f- ', type(f), f)"
   ]
  },
  {
   "cell_type": "markdown",
   "metadata": {},
   "source": [
    "- 튜플 변환"
   ]
  },
  {
   "cell_type": "code",
   "execution_count": 3,
   "metadata": {},
   "outputs": [
    {
     "name": "stdout",
     "output_type": "stream",
     "text": [
      "t - <class 'tuple'> (1, 2, 3, 4)\n",
      "t - 1 (2, 3)\n"
     ]
    }
   ],
   "source": [
    "t = tuple(b)\n",
    "print('t -', type(t), t)\n",
    "print('t -', t[0], t[1:3])"
   ]
  },
  {
   "cell_type": "markdown",
   "metadata": {},
   "source": [
    "- 리스트 변환"
   ]
  },
  {
   "cell_type": "code",
   "execution_count": 4,
   "metadata": {},
   "outputs": [
    {
     "name": "stdout",
     "output_type": "stream",
     "text": [
      "l - <class 'list'> [1, 4, 5, 6]\n",
      "l2 - <class 'list'> ['qux', 'bar', 'foo', 'baz']\n"
     ]
    }
   ],
   "source": [
    "l = list(c)\n",
    "l2 = list(e)\n",
    "\n",
    "print('l -', type(l), l)\n",
    "print('l2 -', type(l2), l2)"
   ]
  },
  {
   "cell_type": "markdown",
   "metadata": {},
   "source": [
    "- 길이"
   ]
  },
  {
   "cell_type": "code",
   "execution_count": 5,
   "metadata": {},
   "outputs": [
    {
     "name": "stdout",
     "output_type": "stream",
     "text": [
      "0\n",
      "4\n",
      "4\n",
      "5\n",
      "4\n",
      "4\n"
     ]
    }
   ],
   "source": [
    "print(len(a))\n",
    "print(len(b))\n",
    "print(len(c))\n",
    "print(len(d))\n",
    "print(len(e))\n",
    "print(len(f))"
   ]
  },
  {
   "cell_type": "markdown",
   "metadata": {},
   "source": [
    "- 집합 자료형 활용"
   ]
  },
  {
   "cell_type": "code",
   "execution_count": 8,
   "metadata": {},
   "outputs": [
    {
     "name": "stdout",
     "output_type": "stream",
     "text": [
      "s1 & s2 :  {4, 5, 6}\n",
      "s1 & s2 :  {4, 5, 6}\n",
      "s1 | s2 :  {1, 2, 3, 4, 5, 6}\n",
      "s1 | s2 :  {1, 2, 3, 4, 5, 6}\n",
      "s1 - s2 :  {1, 2, 3}\n",
      "s1 - s2 :  {1, 2, 3}\n",
      "s1 & s2 :  False\n",
      "subset :  False\n",
      "superset :  True\n"
     ]
    }
   ],
   "source": [
    "s1 = set([1, 2, 3, 4, 5, 6])\n",
    "s2 = set([4, 5, 6])\n",
    "\n",
    "print('s1 & s2 : ', s1 & s2) #교집합\n",
    "print('s1 & s2 : ', s1.intersection(s2))\n",
    "\n",
    "print('s1 | s2 : ', s1 | s2) #합집합\n",
    "print('s1 | s2 : ', s1.union(s2))\n",
    "\n",
    "print('s1 - s2 : ', s1 - s2)\n",
    "print('s1 - s2 : ', s1.difference(s2)) #차집합\n",
    "\n",
    "print('s1 & s2 : ', s1.isdisjoint(s2)) #False면 교집합이 있음\n",
    "\n",
    "print('subset : ', s1.issubset(s2)) #s1이 s2의 부분집합이냐\n",
    "print('superset : ', s1.issuperset(s2)) #s1 집합이 s2를 포함하냐"
   ]
  },
  {
   "cell_type": "markdown",
   "metadata": {},
   "source": [
    "- 추가 & 제거"
   ]
  },
  {
   "cell_type": "code",
   "execution_count": 9,
   "metadata": {},
   "outputs": [
    {
     "name": "stdout",
     "output_type": "stream",
     "text": [
      "s1 - {1, 2, 3, 4, 5}\n",
      "s1 - {1, 3, 4, 5}\n",
      "s1 - {1, 4, 5}\n",
      "s1 - {1, 4, 5}\n",
      "s1 - set()\n"
     ]
    }
   ],
   "source": [
    "s1 = set([1, 2, 3, 4])\n",
    "s1.add(5) #추가\n",
    "print('s1 -', s1)\n",
    "s1.remove(2) #제거\n",
    "print('s1 -', s1)\n",
    "s1.discard(3) #제거\n",
    "print('s1 -', s1)\n",
    "s1. discard(7) # discard는 원소가 없어도 오류가 뜨지 않음\n",
    "print('s1 -', s1)\n",
    "s1.clear() # 전부 다 지움\n",
    "print('s1 -', s1)"
   ]
  },
  {
   "cell_type": "code",
   "execution_count": 10,
   "metadata": {},
   "outputs": [
    {
     "name": "stdout",
     "output_type": "stream",
     "text": [
      "[]\n"
     ]
    }
   ],
   "source": [
    "# 리스트도 clear로 다 지울 수 있음\n",
    "a = [1, 2, 3]\n",
    "a.clear()\n",
    "print(a)"
   ]
  }
 ],
 "metadata": {
  "kernelspec": {
   "display_name": "Python 3",
   "language": "python",
   "name": "python3"
  },
  "language_info": {
   "codemirror_mode": {
    "name": "ipython",
    "version": 3
   },
   "file_extension": ".py",
   "mimetype": "text/x-python",
   "name": "python",
   "nbconvert_exporter": "python",
   "pygments_lexer": "ipython3",
   "version": "3.8.5"
  }
 },
 "nbformat": 4,
 "nbformat_minor": 4
}
