{
 "cells": [
  {
   "cell_type": "markdown",
   "metadata": {},
   "source": [
    "## input 사용법\n",
    "### 기본 타입(str)"
   ]
  },
  {
   "cell_type": "markdown",
   "metadata": {},
   "source": [
    "- 예제 1"
   ]
  },
  {
   "cell_type": "code",
   "execution_count": 3,
   "metadata": {},
   "outputs": [
    {
     "name": "stdout",
     "output_type": "stream",
     "text": [
      "Enter Your Name :김동현\n",
      "Enter Your Grade :3\n",
      "Enter Your Company name :한국\n"
     ]
    }
   ],
   "source": [
    "name = input(\"Enter Your Name :\")\n",
    "grade = input(\"Enter Your Grade :\")\n",
    "company = input(\"Enter Your Company name :\")\\"
   ]
  },
  {
   "cell_type": "markdown",
   "metadata": {},
   "source": [
    "- 예제 2"
   ]
  },
  {
   "cell_type": "code",
   "execution_count": 5,
   "metadata": {},
   "outputs": [
    {
     "name": "stdout",
     "output_type": "stream",
     "text": [
      "Enter number: 01091608950\n",
      "Enter name: 김동현\n",
      "type of number <class 'str'>\n",
      "type of name <class 'str'>\n"
     ]
    }
   ],
   "source": [
    "number = input(\"Enter number: \")\n",
    "name = input(\"Enter name: \")\n",
    "print(\"type of number\", type(number))\n",
    "print(\"type of name\", type(name))"
   ]
  },
  {
   "cell_type": "markdown",
   "metadata": {},
   "source": [
    "- 예제 3 (계산)"
   ]
  },
  {
   "cell_type": "code",
   "execution_count": 7,
   "metadata": {},
   "outputs": [
    {
     "name": "stdout",
     "output_type": "stream",
     "text": [
      "Enter number1 : 1234\n",
      "Enter number2 : 5678\n",
      "first_number + second_number :  6912\n",
      "<class 'int'>\n"
     ]
    }
   ],
   "source": [
    "# int 형으로 형 변환을 해준다.\n",
    "first_number = int(input(\"Enter number1 : \"))\n",
    "second_number = int(input(\"Enter number2 : \"))\n",
    "total = first_number + second_number\n",
    "print(\"first_number + second_number : \", total)\n",
    "print(type(total))"
   ]
  },
  {
   "cell_type": "markdown",
   "metadata": {},
   "source": [
    "- 예제 4"
   ]
  },
  {
   "cell_type": "code",
   "execution_count": 8,
   "metadata": {},
   "outputs": [
    {
     "name": "stdout",
     "output_type": "stream",
     "text": [
      "Enter a float number : 123.12345\n",
      "input float : 123.12345\n",
      "input type : <class 'float'>\n"
     ]
    }
   ],
   "source": [
    "float_number = float(input(\"Enter a float number : \"))\n",
    "print(\"input float :\", float_number)\n",
    "print(\"input type :\", type(float_number))"
   ]
  },
  {
   "cell_type": "markdown",
   "metadata": {},
   "source": [
    "- 예제 5"
   ]
  },
  {
   "cell_type": "code",
   "execution_count": 10,
   "metadata": {},
   "outputs": [
    {
     "name": "stdout",
     "output_type": "stream",
     "text": [
      "Enter first name : 김동현\n",
      "Enter second name : 정서영\n",
      "FirstName - 김동현, LastName = 정서영\n"
     ]
    }
   ],
   "source": [
    "print(\"FirstName - {0}, LastName = {1}\".format(input(\"Enter first name : \"), input(\"Enter second name : \")))"
   ]
  },
  {
   "cell_type": "code",
   "execution_count": null,
   "metadata": {},
   "outputs": [],
   "source": []
  }
 ],
 "metadata": {
  "kernelspec": {
   "display_name": "Python 3",
   "language": "python",
   "name": "python3"
  },
  "language_info": {
   "codemirror_mode": {
    "name": "ipython",
    "version": 3
   },
   "file_extension": ".py",
   "mimetype": "text/x-python",
   "name": "python",
   "nbconvert_exporter": "python",
   "pygments_lexer": "ipython3",
   "version": "3.8.5"
  }
 },
 "nbformat": 4,
 "nbformat_minor": 4
}
