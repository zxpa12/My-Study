{
 "cells": [
  {
   "cell_type": "markdown",
   "metadata": {},
   "source": [
    "## 기본 형식"
   ]
  },
  {
   "cell_type": "code",
   "execution_count": 3,
   "metadata": {},
   "outputs": [
    {
     "name": "stdout",
     "output_type": "stream",
     "text": [
      "v1 is : 0\n",
      "v1 is : 1\n",
      "v1 is : 2\n",
      "v1 is : 3\n",
      "v1 is : 4\n",
      "v1 is : 5\n",
      "v1 is : 6\n",
      "v1 is : 7\n",
      "v1 is : 8\n",
      "v1 is : 9\n"
     ]
    }
   ],
   "source": [
    "for v1 in range(10): # range 값 0 ~ n - 1 까지 반복\n",
    "    print('v1 is :', v1)"
   ]
  },
  {
   "cell_type": "code",
   "execution_count": 4,
   "metadata": {},
   "outputs": [
    {
     "name": "stdout",
     "output_type": "stream",
     "text": [
      "v2 is : 1\n",
      "v2 is : 2\n",
      "v2 is : 3\n",
      "v2 is : 4\n",
      "v2 is : 5\n",
      "v2 is : 6\n",
      "v2 is : 7\n",
      "v2 is : 8\n",
      "v2 is : 9\n",
      "v2 is : 10\n"
     ]
    }
   ],
   "source": [
    "for v2 in range(1, 11):\n",
    "    print('v2 is :', v2)"
   ]
  },
  {
   "cell_type": "code",
   "execution_count": 6,
   "metadata": {},
   "outputs": [
    {
     "name": "stdout",
     "output_type": "stream",
     "text": [
      "v3 is : 1\n",
      "v3 is : 3\n",
      "v3 is : 5\n",
      "v3 is : 7\n",
      "v3 is : 9\n"
     ]
    }
   ],
   "source": [
    "for v3 in range(1, 11, 2): # 1 부터 10까지 2칸씩 뛰어서\n",
    "    print('v3 is :', v3)"
   ]
  },
  {
   "cell_type": "markdown",
   "metadata": {},
   "source": [
    "## 1~ 1000 합"
   ]
  },
  {
   "cell_type": "code",
   "execution_count": 7,
   "metadata": {},
   "outputs": [],
   "source": [
    "sum1 = 0"
   ]
  },
  {
   "cell_type": "code",
   "execution_count": 17,
   "metadata": {},
   "outputs": [
    {
     "name": "stdout",
     "output_type": "stream",
     "text": [
      "4\n",
      "8\n",
      "12\n",
      "16\n",
      "20\n",
      "24\n",
      "28\n",
      "32\n",
      "36\n",
      "40\n",
      "44\n",
      "48\n",
      "52\n",
      "56\n",
      "60\n",
      "64\n",
      "68\n",
      "72\n",
      "76\n",
      "80\n",
      "84\n",
      "88\n",
      "92\n",
      "96\n",
      "100\n",
      "104\n",
      "108\n",
      "112\n",
      "116\n",
      "120\n",
      "124\n",
      "128\n",
      "132\n",
      "136\n",
      "140\n",
      "144\n",
      "148\n",
      "152\n",
      "156\n",
      "160\n",
      "164\n",
      "168\n",
      "172\n",
      "176\n",
      "180\n",
      "184\n",
      "188\n",
      "192\n",
      "196\n",
      "200\n",
      "204\n",
      "208\n",
      "212\n",
      "216\n",
      "220\n",
      "224\n",
      "228\n",
      "232\n",
      "236\n",
      "240\n",
      "244\n",
      "248\n",
      "252\n",
      "256\n",
      "260\n",
      "264\n",
      "268\n",
      "272\n",
      "276\n",
      "280\n",
      "284\n",
      "288\n",
      "292\n",
      "296\n",
      "300\n",
      "304\n",
      "308\n",
      "312\n",
      "316\n",
      "320\n",
      "324\n",
      "328\n",
      "332\n",
      "336\n",
      "340\n",
      "344\n",
      "348\n",
      "352\n",
      "356\n",
      "360\n",
      "364\n",
      "368\n",
      "372\n",
      "376\n",
      "380\n",
      "384\n",
      "388\n",
      "392\n",
      "396\n",
      "400\n",
      "404\n",
      "408\n",
      "412\n",
      "416\n",
      "420\n",
      "424\n",
      "428\n",
      "432\n",
      "436\n",
      "440\n",
      "444\n",
      "448\n",
      "452\n",
      "456\n",
      "460\n",
      "464\n",
      "468\n",
      "472\n",
      "476\n",
      "480\n",
      "484\n",
      "488\n",
      "492\n",
      "496\n",
      "500\n",
      "504\n",
      "508\n",
      "512\n",
      "516\n",
      "520\n",
      "524\n",
      "528\n",
      "532\n",
      "536\n",
      "540\n",
      "544\n",
      "548\n",
      "552\n",
      "556\n",
      "560\n",
      "564\n",
      "568\n",
      "572\n",
      "576\n",
      "580\n",
      "584\n",
      "588\n",
      "592\n",
      "596\n",
      "600\n",
      "604\n",
      "608\n",
      "612\n",
      "616\n",
      "620\n",
      "624\n",
      "628\n",
      "632\n",
      "636\n",
      "640\n",
      "644\n",
      "648\n",
      "652\n",
      "656\n",
      "660\n",
      "664\n",
      "668\n",
      "672\n",
      "676\n",
      "680\n",
      "684\n",
      "688\n",
      "692\n",
      "696\n",
      "700\n",
      "704\n",
      "708\n",
      "712\n",
      "716\n",
      "720\n",
      "724\n",
      "728\n",
      "732\n",
      "736\n",
      "740\n",
      "744\n",
      "748\n",
      "752\n",
      "756\n",
      "760\n",
      "764\n",
      "768\n",
      "772\n",
      "776\n",
      "780\n",
      "784\n",
      "788\n",
      "792\n",
      "796\n",
      "800\n",
      "804\n",
      "808\n",
      "812\n",
      "816\n",
      "820\n",
      "824\n",
      "828\n",
      "832\n",
      "836\n",
      "840\n",
      "844\n",
      "848\n",
      "852\n",
      "856\n",
      "860\n",
      "864\n",
      "868\n",
      "872\n",
      "876\n",
      "880\n",
      "884\n",
      "888\n",
      "892\n",
      "896\n",
      "900\n",
      "904\n",
      "908\n",
      "912\n",
      "916\n",
      "920\n",
      "924\n",
      "928\n",
      "932\n",
      "936\n",
      "940\n",
      "944\n",
      "948\n",
      "952\n",
      "956\n",
      "960\n",
      "964\n",
      "968\n",
      "972\n",
      "976\n",
      "980\n",
      "984\n",
      "988\n",
      "992\n",
      "996\n",
      "1000\n"
     ]
    }
   ],
   "source": [
    "# 4의 배수만 뽑기\n",
    "for v in range(4, 1001, 4):\n",
    "    print(v)\n",
    "    sum1 += v"
   ]
  },
  {
   "cell_type": "code",
   "execution_count": 12,
   "metadata": {},
   "outputs": [
    {
     "name": "stdout",
     "output_type": "stream",
     "text": [
      "1 ~ 1000 sum : 500500\n",
      "1 ~ 1000 4의 배수의 합:  125500\n"
     ]
    }
   ],
   "source": [
    "print('1 ~ 1000 sum :', sum(range(1, 1001)))\n",
    "print('1 ~ 1000 4의 배수의 합: ', sum(range(4, 1001, 4)))"
   ]
  },
  {
   "cell_type": "markdown",
   "metadata": {},
   "source": [
    "- 예제 1"
   ]
  },
  {
   "cell_type": "code",
   "execution_count": 18,
   "metadata": {},
   "outputs": [
    {
     "name": "stdout",
     "output_type": "stream",
     "text": [
      "You are : Kim\n",
      "You are : Park\n",
      "You are : Cho\n",
      "You are : Lee\n",
      "You are : Choi\n",
      "You are : Yoo\n"
     ]
    }
   ],
   "source": [
    "names = ['Kim', 'Park', 'Cho', 'Lee', 'Choi', 'Yoo']\n",
    "\n",
    "for n in names: # 리스트의 값 하나하나씩 반복함\n",
    "    print('You are :', n)"
   ]
  },
  {
   "cell_type": "markdown",
   "metadata": {},
   "source": [
    "- 예제 2"
   ]
  },
  {
   "cell_type": "code",
   "execution_count": 21,
   "metadata": {},
   "outputs": [
    {
     "name": "stdout",
     "output_type": "stream",
     "text": [
      "Current number : 11\n",
      "Current number : 19\n",
      "Current number : 21\n",
      "Current number : 28\n",
      "Current number : 36\n",
      "Current number : 37\n"
     ]
    }
   ],
   "source": [
    "lotto_numbers = [11, 19, 21, 28, 36, 37]\n",
    "\n",
    "for n in lotto_numbers:\n",
    "    print(\"Current number :\", n)"
   ]
  },
  {
   "cell_type": "markdown",
   "metadata": {},
   "source": [
    "- 예제 3"
   ]
  },
  {
   "cell_type": "code",
   "execution_count": 23,
   "metadata": {},
   "outputs": [],
   "source": [
    "word = 'Beautiful'"
   ]
  },
  {
   "cell_type": "code",
   "execution_count": 24,
   "metadata": {},
   "outputs": [
    {
     "name": "stdout",
     "output_type": "stream",
     "text": [
      "word : B\n",
      "word : e\n",
      "word : a\n",
      "word : u\n",
      "word : t\n",
      "word : i\n",
      "word : f\n",
      "word : u\n",
      "word : l\n"
     ]
    }
   ],
   "source": [
    "for s in word:\n",
    "    print('word :', s)"
   ]
  },
  {
   "cell_type": "markdown",
   "metadata": {},
   "source": [
    "- 예제 4"
   ]
  },
  {
   "cell_type": "code",
   "execution_count": 25,
   "metadata": {},
   "outputs": [],
   "source": [
    "my_info = {\n",
    "    'name' : 'Lee',\n",
    "    'Age' : 33,\n",
    "    'City': 'Seoul'\n",
    "}"
   ]
  },
  {
   "cell_type": "code",
   "execution_count": 28,
   "metadata": {},
   "outputs": [
    {
     "name": "stdout",
     "output_type": "stream",
     "text": [
      "key : name\n",
      "key : Lee\n",
      "key : Age\n",
      "key : 33\n",
      "key : City\n",
      "key : Seoul\n"
     ]
    }
   ],
   "source": [
    "for key in my_info:\n",
    "    print('key :', key)\n",
    "    print('key :', my_info[key]) # Value 값"
   ]
  },
  {
   "cell_type": "code",
   "execution_count": 29,
   "metadata": {},
   "outputs": [
    {
     "name": "stdout",
     "output_type": "stream",
     "text": [
      "value : Lee\n",
      "value : 33\n",
      "value : Seoul\n"
     ]
    }
   ],
   "source": [
    "for v in my_info.values():\n",
    "    print('value :', v)"
   ]
  },
  {
   "cell_type": "markdown",
   "metadata": {},
   "source": [
    "- 예제 5"
   ]
  },
  {
   "cell_type": "code",
   "execution_count": 31,
   "metadata": {},
   "outputs": [],
   "source": [
    "name = 'FineAppLE'"
   ]
  },
  {
   "cell_type": "code",
   "execution_count": 33,
   "metadata": {},
   "outputs": [
    {
     "name": "stdout",
     "output_type": "stream",
     "text": [
      "F\n",
      "I\n",
      "N\n",
      "E\n",
      "A\n",
      "P\n",
      "P\n",
      "L\n",
      "E\n"
     ]
    }
   ],
   "source": [
    "for n in name:\n",
    "    if n.isupper():\n",
    "        print(n)\n",
    "    else:\n",
    "        print(n.upper())"
   ]
  },
  {
   "cell_type": "markdown",
   "metadata": {},
   "source": [
    "## break"
   ]
  },
  {
   "cell_type": "code",
   "execution_count": 34,
   "metadata": {},
   "outputs": [],
   "source": [
    "numbers = [14, 3, 4, 7, 10, 24, 17, 2, 33, 15, 34, 36, 38]"
   ]
  },
  {
   "cell_type": "code",
   "execution_count": 35,
   "metadata": {},
   "outputs": [
    {
     "name": "stdout",
     "output_type": "stream",
     "text": [
      "Not Found : 14\n",
      "Not Found : 3\n",
      "Not Found : 4\n",
      "Not Found : 7\n",
      "Not Found : 10\n",
      "Not Found : 24\n",
      "Not Found : 17\n",
      "Not Found : 2\n",
      "Not Found : 33\n",
      "Not Found : 15\n",
      "Found : 34!\n"
     ]
    }
   ],
   "source": [
    "for num in numbers:\n",
    "    if num == 34:\n",
    "        print('Found : 34!')\n",
    "        break\n",
    "    else:\n",
    "        print('Not Found :', num)"
   ]
  },
  {
   "cell_type": "markdown",
   "metadata": {},
   "source": [
    "## continue"
   ]
  },
  {
   "cell_type": "code",
   "execution_count": 36,
   "metadata": {},
   "outputs": [],
   "source": [
    "a = ['1', 2, 5, True, 4.3, complex(4)]"
   ]
  },
  {
   "cell_type": "code",
   "execution_count": 37,
   "metadata": {},
   "outputs": [
    {
     "name": "stdout",
     "output_type": "stream",
     "text": [
      "current type: 1 <class 'str'>\n",
      "multiply by 2 111\n",
      "current type: 2 <class 'int'>\n",
      "multiply by 2 6\n",
      "current type: 5 <class 'int'>\n",
      "multiply by 2 15\n",
      "current type: 4.3 <class 'float'>\n",
      "multiply by 2 12.899999999999999\n",
      "current type: (4+0j) <class 'complex'>\n",
      "multiply by 2 (12+0j)\n"
     ]
    }
   ],
   "source": [
    "for v in a:\n",
    "    if type(v) is bool: #bool 형은 건너뛴다.\n",
    "        continue\n",
    "    print('current type:', v, type(v))\n",
    "    print('multiply by 2', v * 3)"
   ]
  },
  {
   "cell_type": "markdown",
   "metadata": {},
   "source": [
    "## for - else\n",
    "- 끝까지 찾았는데 없으면 for문의 최종 실행 단계라고 보면 됨"
   ]
  },
  {
   "cell_type": "code",
   "execution_count": 45,
   "metadata": {},
   "outputs": [],
   "source": [
    "numbers = [14, 3, 4, 7, 10, 24, 17, 2, 33, 15, 34, 36, 38]"
   ]
  },
  {
   "cell_type": "code",
   "execution_count": 46,
   "metadata": {},
   "outputs": [
    {
     "name": "stdout",
     "output_type": "stream",
     "text": [
      "Found : 24!\n"
     ]
    }
   ],
   "source": [
    "for num in numbers:\n",
    "    if num == 24:\n",
    "        print('Found : 24!')\n",
    "        break\n",
    "else:\n",
    "    print('Not Found : 24!')"
   ]
  },
  {
   "cell_type": "markdown",
   "metadata": {},
   "source": [
    "## 구구단 출력"
   ]
  },
  {
   "cell_type": "code",
   "execution_count": 47,
   "metadata": {},
   "outputs": [
    {
     "name": "stdout",
     "output_type": "stream",
     "text": [
      "   2   4   6   8  10  12  14  16  18\n",
      "   3   6   9  12  15  18  21  24  27\n",
      "   4   8  12  16  20  24  28  32  36\n",
      "   5  10  15  20  25  30  35  40  45\n",
      "   6  12  18  24  30  36  42  48  54\n",
      "   7  14  21  28  35  42  49  56  63\n",
      "   8  16  24  32  40  48  56  64  72\n",
      "   9  18  27  36  45  54  63  72  81\n"
     ]
    }
   ],
   "source": [
    "for i in range(2, 10):\n",
    "    for j in range(1, 10):\n",
    "        print('{:4d}'.format(i * j), end = \"\")\n",
    "    print()"
   ]
  },
  {
   "cell_type": "markdown",
   "metadata": {},
   "source": [
    "## 변환 예제"
   ]
  },
  {
   "cell_type": "code",
   "execution_count": 49,
   "metadata": {},
   "outputs": [],
   "source": [
    "name2 = 'Aceman'"
   ]
  },
  {
   "cell_type": "code",
   "execution_count": 50,
   "metadata": {},
   "outputs": [
    {
     "name": "stdout",
     "output_type": "stream",
     "text": [
      "Reversed <reversed object at 0x000001EE4B80C550>\n",
      "list ['n', 'a', 'm', 'e', 'c', 'A']\n",
      "tuple ('n', 'a', 'm', 'e', 'c', 'A')\n",
      "set {'e', 'm', 'a', 'n', 'c', 'A'}\n"
     ]
    }
   ],
   "source": [
    "print('Reversed', reversed(name2))\n",
    "print('list', list(reversed(name2)))\n",
    "print('tuple', tuple(reversed(name2)))\n",
    "print('set', set(reversed(name2)))"
   ]
  }
 ],
 "metadata": {
  "kernelspec": {
   "display_name": "Python 3",
   "language": "python",
   "name": "python3"
  },
  "language_info": {
   "codemirror_mode": {
    "name": "ipython",
    "version": 3
   },
   "file_extension": ".py",
   "mimetype": "text/x-python",
   "name": "python",
   "nbconvert_exporter": "python",
   "pygments_lexer": "ipython3",
   "version": "3.8.5"
  }
 },
 "nbformat": 4,
 "nbformat_minor": 4
}
