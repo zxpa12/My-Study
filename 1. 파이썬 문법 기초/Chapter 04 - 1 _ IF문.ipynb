{
 "cells": [
  {
   "cell_type": "code",
   "execution_count": 2,
   "metadata": {},
   "outputs": [
    {
     "name": "stdout",
     "output_type": "stream",
     "text": [
      "<class 'bool'>\n",
      "<class 'bool'>\n"
     ]
    }
   ],
   "source": [
    "print(type(True))\n",
    "print(type(False))"
   ]
  },
  {
   "cell_type": "code",
   "execution_count": 5,
   "metadata": {},
   "outputs": [
    {
     "name": "stdout",
     "output_type": "stream",
     "text": [
      "Good\n"
     ]
    }
   ],
   "source": [
    "if True:\n",
    "    print('Good')\n",
    "if False:\n",
    "    print('Bad')"
   ]
  },
  {
   "cell_type": "code",
   "execution_count": 6,
   "metadata": {},
   "outputs": [
    {
     "name": "stdout",
     "output_type": "stream",
     "text": [
      "Good\n"
     ]
    }
   ],
   "source": [
    "if False:\n",
    "    print('Bad')\n",
    "if True:\n",
    "    print('Good')"
   ]
  },
  {
   "cell_type": "markdown",
   "metadata": {},
   "source": [
    "- 관계연산자"
   ]
  },
  {
   "cell_type": "code",
   "execution_count": 7,
   "metadata": {},
   "outputs": [
    {
     "name": "stdout",
     "output_type": "stream",
     "text": [
      "False\n",
      "True\n",
      "True\n",
      "True\n",
      "False\n",
      "False\n"
     ]
    }
   ],
   "source": [
    "x = 15\n",
    "y = 10\n",
    "\n",
    "# 양변이 같을 경우 참\n",
    "print(x == y)\n",
    "\n",
    "# 양변이 다른 경우 참\n",
    "print(x != y)\n",
    "\n",
    "# 왼쪽이 클 때 참\n",
    "print(x > y)\n",
    "\n",
    "# 왼쪽이 크거나 같을 때 참\n",
    "print(x >= y)\n",
    "\n",
    "# 오른쪽이 클 때 참\n",
    "print(x < y)\n",
    "\n",
    "# 오른쪽이 크거나 같을 때 참\n",
    "print(x <= y)"
   ]
  },
  {
   "cell_type": "code",
   "execution_count": 16,
   "metadata": {},
   "outputs": [
    {
     "name": "stdout",
     "output_type": "stream",
     "text": [
      "Please enter your city\n"
     ]
    }
   ],
   "source": [
    "city = \"\"\n",
    "if city:\n",
    "    print(\"You are in\", city)\n",
    "else:\n",
    "    print(\"Please enter your city\")\n"
   ]
  },
  {
   "cell_type": "code",
   "execution_count": 17,
   "metadata": {},
   "outputs": [
    {
     "name": "stdout",
     "output_type": "stream",
     "text": [
      "You are in Seoul\n"
     ]
    }
   ],
   "source": [
    "city2 = \"Seoul\"\n",
    "if city2:\n",
    "    print(\"You are in\", city2)\n",
    "else:\n",
    "    print(\"Please enter your city\")"
   ]
  },
  {
   "cell_type": "markdown",
   "metadata": {},
   "source": [
    "- 논리연산자 (and, or, not)"
   ]
  },
  {
   "cell_type": "code",
   "execution_count": 18,
   "metadata": {},
   "outputs": [],
   "source": [
    "a = 75\n",
    "b = 40\n",
    "c = 10"
   ]
  },
  {
   "cell_type": "code",
   "execution_count": 28,
   "metadata": {},
   "outputs": [
    {
     "name": "stdout",
     "output_type": "stream",
     "text": [
      "and True\n",
      "or True\n",
      "not False\n",
      "not False\n",
      "False\n",
      "True\n"
     ]
    }
   ],
   "source": [
    "print('and', a > b and b > c)\n",
    "print('or', a > b or b > c) # 한 쪽 이상이 참일 때\n",
    "print('not', not a > b)\n",
    "print('not', not b > c)\n",
    "print(not True)\n",
    "print(not False)"
   ]
  },
  {
   "cell_type": "markdown",
   "metadata": {},
   "source": [
    "### 산술, 관계, 논리 우선순위\n",
    "- 산술 > 관계 > 논리"
   ]
  },
  {
   "cell_type": "code",
   "execution_count": 30,
   "metadata": {},
   "outputs": [
    {
     "name": "stdout",
     "output_type": "stream",
     "text": [
      "e1 : True\n",
      "e2 : False\n",
      "e3 : True\n",
      "e4 : False\n"
     ]
    }
   ],
   "source": [
    "print('e1 :', 3 + 12 > 7 + 3)\n",
    "print('e2 :', 5 + 10 * 3 > 7 + 3 * 20)\n",
    "print('e3 :', 5 + 10 > 3 and 7 + 3 == 10)\n",
    "print('e4 :', 5 + 10 > 0 and not 7 + 3 == 10)"
   ]
  },
  {
   "cell_type": "markdown",
   "metadata": {},
   "source": [
    "- 조건문 예제 1"
   ]
  },
  {
   "cell_type": "code",
   "execution_count": 31,
   "metadata": {},
   "outputs": [],
   "source": [
    "score1 = 90\n",
    "score2 = 'A'"
   ]
  },
  {
   "cell_type": "code",
   "execution_count": 32,
   "metadata": {},
   "outputs": [
    {
     "name": "stdout",
     "output_type": "stream",
     "text": [
      "Pass\n"
     ]
    }
   ],
   "source": [
    "if score1 >= 90 and score2 == \"A\":\n",
    "    print('Pass')\n",
    "else:\n",
    "    print('Fail')"
   ]
  },
  {
   "cell_type": "markdown",
   "metadata": {},
   "source": [
    "- 조건문 예제 2"
   ]
  },
  {
   "cell_type": "code",
   "execution_count": 33,
   "metadata": {},
   "outputs": [],
   "source": [
    "id1 = 'vip'\n",
    "id2 = 'admin'\n",
    "grade = 'platinum'"
   ]
  },
  {
   "cell_type": "code",
   "execution_count": 38,
   "metadata": {},
   "outputs": [
    {
     "name": "stdout",
     "output_type": "stream",
     "text": [
      "관리자 입장\n",
      "최상위 관리자\n"
     ]
    }
   ],
   "source": [
    "if id1 == 'vip' or id2 == 'admin':\n",
    "    print('관리자 입장')\n",
    "if id2 == 'admin' and grade == 'platinum':\n",
    "    print('최상위 관리자')"
   ]
  },
  {
   "cell_type": "markdown",
   "metadata": {},
   "source": [
    "- 조건문 예제 3 (다중조건문)"
   ]
  },
  {
   "cell_type": "code",
   "execution_count": 43,
   "metadata": {},
   "outputs": [],
   "source": [
    "num = 90"
   ]
  },
  {
   "cell_type": "code",
   "execution_count": 44,
   "metadata": {},
   "outputs": [
    {
     "name": "stdout",
     "output_type": "stream",
     "text": [
      "Grade : A\n"
     ]
    }
   ],
   "source": [
    "if num >= 90:\n",
    "    print('Grade : A')\n",
    "elif num >= 80:\n",
    "    print('Grade : B')\n",
    "elif num >= 70:\n",
    "    print('Grade : C')\n",
    "else:\n",
    "    print('과락')"
   ]
  },
  {
   "cell_type": "markdown",
   "metadata": {},
   "source": [
    "- 조건문 예제 4 (중첩 조건문)"
   ]
  },
  {
   "cell_type": "code",
   "execution_count": 50,
   "metadata": {},
   "outputs": [],
   "source": [
    "grade = 'A'\n",
    "total = 70"
   ]
  },
  {
   "cell_type": "code",
   "execution_count": 51,
   "metadata": {},
   "outputs": [
    {
     "name": "stdout",
     "output_type": "stream",
     "text": [
      "장학금 50%\n"
     ]
    }
   ],
   "source": [
    "if grade == 'A':\n",
    "    if total >= 90:\n",
    "        print('장학금 100%')\n",
    "    elif total >= 80:\n",
    "        print('장학금 80%')\n",
    "    else:\n",
    "        print('장학금 50%')\n",
    "else:\n",
    "    print('장학금 없음')"
   ]
  },
  {
   "cell_type": "markdown",
   "metadata": {},
   "source": [
    "- in, not in"
   ]
  },
  {
   "cell_type": "code",
   "execution_count": 53,
   "metadata": {},
   "outputs": [],
   "source": [
    "q = [10, 20, 30]\n",
    "w = {70, 80, 90, 100}\n",
    "e = {'name': 'Lee', 'City': 'Seoul', 'Grade': 'A'} #딕셔너리\n",
    "r = (10, 12, 14)"
   ]
  },
  {
   "cell_type": "code",
   "execution_count": 61,
   "metadata": {},
   "outputs": [
    {
     "name": "stdout",
     "output_type": "stream",
     "text": [
      "False\n",
      "True\n",
      "False\n",
      "True\n",
      "True\n"
     ]
    }
   ],
   "source": [
    "print(15 in q)\n",
    "print(90 in w)\n",
    "print(12 not in r)\n",
    "print('name' in e) # key 값이 있는지 없는지 알아봄\n",
    "print('Seoul' in e.values()) # values 값이 있는지 알아봄"
   ]
  },
  {
   "cell_type": "code",
   "execution_count": null,
   "metadata": {},
   "outputs": [],
   "source": []
  }
 ],
 "metadata": {
  "kernelspec": {
   "display_name": "Python 3",
   "language": "python",
   "name": "python3"
  },
  "language_info": {
   "codemirror_mode": {
    "name": "ipython",
    "version": 3
   },
   "file_extension": ".py",
   "mimetype": "text/x-python",
   "name": "python",
   "nbconvert_exporter": "python",
   "pygments_lexer": "ipython3",
   "version": "3.8.5"
  }
 },
 "nbformat": 4,
 "nbformat_minor": 4
}
