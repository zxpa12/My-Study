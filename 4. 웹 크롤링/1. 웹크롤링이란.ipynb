{
 "cells": [
  {
   "cell_type": "markdown",
   "metadata": {},
   "source": [
    "- www.transfermarket.com/robots.txt 로봇배제표준"
   ]
  },
  {
   "cell_type": "markdown",
   "metadata": {},
   "source": [
    "- HTML 뼈대, 구조 기본구조\n",
    "- CSS 글씨, 크기 배치\n",
    "- Java Script 동작하게 만드는 것"
   ]
  },
  {
   "cell_type": "markdown",
   "metadata": {},
   "source": [
    "### HTML elements (요소) : 시작 tag와 끝 tag안에 내용 \n",
    "    - (예, <h1> </h2>)\n",
    "    - <br>, <img> 등은 닫는 태그가 없음\n",
    "    \n",
    "### HTML attributes (속성) : 요소의 추가적인 정보 제공 (예, href = , src = , width = )"
   ]
  },
  {
   "cell_type": "markdown",
   "metadata": {},
   "source": [
    "## Chrome 개발자 도구\n",
    "- Chrome에서 오른쪽 마우스 -> 검사(N)\n",
    "- 또는 F12\n",
    "- 또는 : -> 도구 더보기 -> 개발자 도구"
   ]
  }
 ],
 "metadata": {
  "kernelspec": {
   "display_name": "Python 3",
   "language": "python",
   "name": "python3"
  },
  "language_info": {
   "codemirror_mode": {
    "name": "ipython",
    "version": 3
   },
   "file_extension": ".py",
   "mimetype": "text/x-python",
   "name": "python",
   "nbconvert_exporter": "python",
   "pygments_lexer": "ipython3",
   "version": "3.8.5"
  }
 },
 "nbformat": 4,
 "nbformat_minor": 4
}
