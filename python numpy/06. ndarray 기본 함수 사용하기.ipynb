{
 "cells": [
  {
   "cell_type": "markdown",
   "metadata": {},
   "source": [
    "## 학습목표\n",
    " 1. numpy에서 자주 사용되는 함수들을 사용해보기"
   ]
  },
  {
   "cell_type": "code",
   "execution_count": 3,
   "metadata": {},
   "outputs": [],
   "source": [
    "import numpy as np"
   ]
  },
  {
   "cell_type": "markdown",
   "metadata": {},
   "source": [
    "#### numpy documentation\n",
    " - [numpy 공식 문서 링크](https://www.numpy.org/devdocs/reference/)\n",
    " - numpy에서 제공되는 함수등에 대한 문서"
   ]
  },
  {
   "cell_type": "code",
   "execution_count": 10,
   "metadata": {},
   "outputs": [
    {
     "name": "stdout",
     "output_type": "stream",
     "text": [
      "[[ 0  1  2  3  4]\n",
      " [ 5  6  7  8  9]\n",
      " [10 11 12 13 14]]\n",
      "[[0.56811708 0.82447003 0.6168614  0.11721867 0.70903999]\n",
      " [0.11439257 0.36504875 0.1123765  0.21505668 0.12103247]\n",
      " [0.43037201 0.93649779 0.75427793 0.02140788 0.73808011]]\n"
     ]
    }
   ],
   "source": [
    "x = np.arange(15).reshape(3, 5)\n",
    "y = np.random.rand(15).reshape(3, 5)\n",
    "print(x)\n",
    "print(y)"
   ]
  },
  {
   "cell_type": "markdown",
   "metadata": {},
   "source": [
    "#### 연산 함수\n",
    " - add, substract, multiply, divide"
   ]
  },
  {
   "cell_type": "code",
   "execution_count": 11,
   "metadata": {},
   "outputs": [
    {
     "data": {
      "text/plain": [
       "array([[ 0.56811708,  1.82447003,  2.6168614 ,  3.11721867,  4.70903999],\n",
       "       [ 5.11439257,  6.36504875,  7.1123765 ,  8.21505668,  9.12103247],\n",
       "       [10.43037201, 11.93649779, 12.75427793, 13.02140788, 14.73808011]])"
      ]
     },
     "execution_count": 11,
     "metadata": {},
     "output_type": "execute_result"
    }
   ],
   "source": [
    "np.add(x, y) # 두개의 ndarray의 shape이 같아야함."
   ]
  },
  {
   "cell_type": "code",
   "execution_count": 12,
   "metadata": {
    "scrolled": true
   },
   "outputs": [
    {
     "data": {
      "text/plain": [
       "array([[ 0.56811708,  1.82447003,  2.6168614 ,  3.11721867,  4.70903999],\n",
       "       [ 5.11439257,  6.36504875,  7.1123765 ,  8.21505668,  9.12103247],\n",
       "       [10.43037201, 11.93649779, 12.75427793, 13.02140788, 14.73808011]])"
      ]
     },
     "execution_count": 12,
     "metadata": {},
     "output_type": "execute_result"
    }
   ],
   "source": [
    "x + y"
   ]
  },
  {
   "cell_type": "code",
   "execution_count": 13,
   "metadata": {},
   "outputs": [
    {
     "data": {
      "text/plain": [
       "array([[-0.56811708,  0.17552997,  1.3831386 ,  2.88278133,  3.29096001],\n",
       "       [ 4.88560743,  5.63495125,  6.8876235 ,  7.78494332,  8.87896753],\n",
       "       [ 9.56962799, 10.06350221, 11.24572207, 12.97859212, 13.26191989]])"
      ]
     },
     "execution_count": 13,
     "metadata": {},
     "output_type": "execute_result"
    }
   ],
   "source": [
    "x - y"
   ]
  },
  {
   "cell_type": "code",
   "execution_count": 14,
   "metadata": {},
   "outputs": [
    {
     "data": {
      "text/plain": [
       "array([[ 0.        ,  0.82447003,  1.2337228 ,  0.35165601,  2.83615995],\n",
       "       [ 0.57196284,  2.1902925 ,  0.78663551,  1.72045342,  1.08929227],\n",
       "       [ 4.3037201 , 10.30147567,  9.05133519,  0.27830242, 10.3331216 ]])"
      ]
     },
     "execution_count": 14,
     "metadata": {},
     "output_type": "execute_result"
    }
   ],
   "source": [
    "x * y"
   ]
  },
  {
   "cell_type": "code",
   "execution_count": 15,
   "metadata": {},
   "outputs": [
    {
     "data": {
      "text/plain": [
       "array([[  0.        ,   1.21290037,   3.24221939,  25.59319288,\n",
       "          5.64143077],\n",
       "       [ 43.70913358,  16.43616096,  62.29060281,  37.19949599,\n",
       "         74.36020855],\n",
       "       [ 23.23571182,  11.74588999,  15.90925504, 607.25306495,\n",
       "         18.96813059]])"
      ]
     },
     "execution_count": 15,
     "metadata": {},
     "output_type": "execute_result"
    }
   ],
   "source": [
    "x / y"
   ]
  },
  {
   "cell_type": "markdown",
   "metadata": {},
   "source": [
    "#### 통계 함수\n",
    " - 평균, 분산, 중앙, 최대, 최소값 등등 통계 관련된 함수가 내장"
   ]
  },
  {
   "cell_type": "code",
   "execution_count": 18,
   "metadata": {},
   "outputs": [
    {
     "name": "stdout",
     "output_type": "stream",
     "text": [
      "[[0.56811708 0.82447003 0.6168614  0.11721867 0.70903999]\n",
      " [0.11439257 0.36504875 0.1123765  0.21505668 0.12103247]\n",
      " [0.43037201 0.93649779 0.75427793 0.02140788 0.73808011]]\n"
     ]
    }
   ],
   "source": [
    "print(y)"
   ]
  },
  {
   "cell_type": "code",
   "execution_count": 19,
   "metadata": {},
   "outputs": [
    {
     "data": {
      "text/plain": [
       "0.44294999043957367"
      ]
     },
     "execution_count": 19,
     "metadata": {},
     "output_type": "execute_result"
    }
   ],
   "source": [
    "np.mean(y)"
   ]
  },
  {
   "cell_type": "code",
   "execution_count": 20,
   "metadata": {
    "scrolled": true
   },
   "outputs": [
    {
     "data": {
      "text/plain": [
       "0.44294999043957367"
      ]
     },
     "execution_count": 20,
     "metadata": {},
     "output_type": "execute_result"
    }
   ],
   "source": [
    "y.mean()"
   ]
  },
  {
   "cell_type": "code",
   "execution_count": 21,
   "metadata": {},
   "outputs": [
    {
     "data": {
      "text/plain": [
       "0.93649778862337"
      ]
     },
     "execution_count": 21,
     "metadata": {},
     "output_type": "execute_result"
    }
   ],
   "source": [
    "np.max(y)"
   ]
  },
  {
   "cell_type": "code",
   "execution_count": 23,
   "metadata": {
    "scrolled": true
   },
   "outputs": [
    {
     "data": {
      "text/plain": [
       "11"
      ]
     },
     "execution_count": 23,
     "metadata": {},
     "output_type": "execute_result"
    }
   ],
   "source": [
    "np.argmax(y)"
   ]
  },
  {
   "cell_type": "code",
   "execution_count": 24,
   "metadata": {},
   "outputs": [
    {
     "data": {
      "text/plain": [
       "(0.09018068176408593, 0.43037201004803716, 0.300300985286572)"
      ]
     },
     "execution_count": 24,
     "metadata": {},
     "output_type": "execute_result"
    }
   ],
   "source": [
    "np.var(y), np.median(y), np.std(y)"
   ]
  },
  {
   "cell_type": "markdown",
   "metadata": {},
   "source": [
    "#### 집계함수\n",
    " - 합계(sum), 누적합계(cumsum) 등등 계산 가능"
   ]
  },
  {
   "cell_type": "code",
   "execution_count": 25,
   "metadata": {},
   "outputs": [
    {
     "data": {
      "text/plain": [
       "array([[0.56811708, 0.82447003, 0.6168614 , 0.11721867, 0.70903999],\n",
       "       [0.11439257, 0.36504875, 0.1123765 , 0.21505668, 0.12103247],\n",
       "       [0.43037201, 0.93649779, 0.75427793, 0.02140788, 0.73808011]])"
      ]
     },
     "execution_count": 25,
     "metadata": {},
     "output_type": "execute_result"
    }
   ],
   "source": [
    "y"
   ]
  },
  {
   "cell_type": "code",
   "execution_count": 34,
   "metadata": {},
   "outputs": [
    {
     "data": {
      "text/plain": [
       "6.644249856593605"
      ]
     },
     "execution_count": 34,
     "metadata": {},
     "output_type": "execute_result"
    }
   ],
   "source": [
    "np.sum(y, axis = None)"
   ]
  },
  {
   "cell_type": "code",
   "execution_count": 29,
   "metadata": {
    "scrolled": true
   },
   "outputs": [
    {
     "data": {
      "text/plain": [
       "6.644249856593605"
      ]
     },
     "execution_count": 29,
     "metadata": {},
     "output_type": "execute_result"
    }
   ],
   "source": [
    "np.sum(y)"
   ]
  },
  {
   "cell_type": "code",
   "execution_count": 30,
   "metadata": {},
   "outputs": [
    {
     "data": {
      "text/plain": [
       "array([0.56811708, 1.39258711, 2.00944851, 2.12666718, 2.83570716,\n",
       "       2.95009973, 3.31514848, 3.42752498, 3.64258166, 3.76361413,\n",
       "       4.19398614, 5.13048393, 5.88476186, 5.90616974, 6.64424986])"
      ]
     },
     "execution_count": 30,
     "metadata": {},
     "output_type": "execute_result"
    }
   ],
   "source": [
    "np.cumsum(y) #누적 합"
   ]
  },
  {
   "cell_type": "markdown",
   "metadata": {},
   "source": [
    "#### any, all 함수\n",
    " - any: 특정 조건을 만족하는 것이 하나라도 있으면 True, 아니면 False\n",
    " - all: 모든 원소가 특정 조건을 만족한다면 True, 아니면 False"
   ]
  },
  {
   "cell_type": "code",
   "execution_count": 36,
   "metadata": {},
   "outputs": [
    {
     "name": "stdout",
     "output_type": "stream",
     "text": [
      "[-0.96600547 -0.84224925 -0.19177697 -0.50865674  0.41558055 -0.24798806\n",
      " -2.14433663  0.77505075  1.10154446  0.68837636]\n"
     ]
    }
   ],
   "source": [
    "z = np.random.randn(10)\n",
    "print(z)"
   ]
  },
  {
   "cell_type": "code",
   "execution_count": 38,
   "metadata": {},
   "outputs": [
    {
     "data": {
      "text/plain": [
       "array([False, False, False, False,  True, False, False,  True,  True,\n",
       "        True])"
      ]
     },
     "execution_count": 38,
     "metadata": {},
     "output_type": "execute_result"
    }
   ],
   "source": [
    "z > 0"
   ]
  },
  {
   "cell_type": "code",
   "execution_count": 37,
   "metadata": {
    "scrolled": true
   },
   "outputs": [
    {
     "data": {
      "text/plain": [
       "True"
      ]
     },
     "execution_count": 37,
     "metadata": {},
     "output_type": "execute_result"
    }
   ],
   "source": [
    "np.any(z > 0)"
   ]
  },
  {
   "cell_type": "code",
   "execution_count": 40,
   "metadata": {},
   "outputs": [
    {
     "data": {
      "text/plain": [
       "True"
      ]
     },
     "execution_count": 40,
     "metadata": {},
     "output_type": "execute_result"
    }
   ],
   "source": [
    "np.all(z != 0) # 모두 참이여야 함"
   ]
  },
  {
   "cell_type": "markdown",
   "metadata": {},
   "source": [
    "#### where 함수\n",
    " - 조건에 따라 선별적으로 값을 선택 가능\n",
    " - 사용 예) 음수인경우는 0, 나머지는 그대로 값을 쓰는 경우"
   ]
  },
  {
   "cell_type": "code",
   "execution_count": 41,
   "metadata": {},
   "outputs": [
    {
     "name": "stdout",
     "output_type": "stream",
     "text": [
      "[-0.90568916  0.35679996 -0.7922979  -0.10505559 -0.51870975 -0.31720248\n",
      " -1.33880354  1.20729744  0.83482774 -2.38041878]\n"
     ]
    }
   ],
   "source": [
    "z = np.random.randn(10)\n",
    "print(z)"
   ]
  },
  {
   "cell_type": "code",
   "execution_count": 42,
   "metadata": {},
   "outputs": [
    {
     "data": {
      "text/plain": [
       "array([0.        , 0.35679996, 0.        , 0.        , 0.        ,\n",
       "       0.        , 0.        , 1.20729744, 0.83482774, 0.        ])"
      ]
     },
     "execution_count": 42,
     "metadata": {},
     "output_type": "execute_result"
    }
   ],
   "source": [
    "np.where(z > 0, z, 0) # z> 0 이 참이면 z값을 쓰고 아니면 0값을 써라"
   ]
  },
  {
   "cell_type": "code",
   "execution_count": 44,
   "metadata": {},
   "outputs": [
    {
     "data": {
      "text/plain": [
       "array([0.        , 0.35679996, 0.        , 0.        , 0.        ,\n",
       "       0.        , 0.        , 1.20729744, 0.83482774, 0.        ])"
      ]
     },
     "execution_count": 44,
     "metadata": {},
     "output_type": "execute_result"
    }
   ],
   "source": [
    "np.where(z > 0, z, 0)"
   ]
  },
  {
   "cell_type": "code",
   "execution_count": null,
   "metadata": {},
   "outputs": [],
   "source": []
  }
 ],
 "metadata": {
  "kernelspec": {
   "display_name": "Python 3",
   "language": "python",
   "name": "python3"
  },
  "language_info": {
   "codemirror_mode": {
    "name": "ipython",
    "version": 3
   },
   "file_extension": ".py",
   "mimetype": "text/x-python",
   "name": "python",
   "nbconvert_exporter": "python",
   "pygments_lexer": "ipython3",
   "version": "3.8.5"
  }
 },
 "nbformat": 4,
 "nbformat_minor": 1
}
