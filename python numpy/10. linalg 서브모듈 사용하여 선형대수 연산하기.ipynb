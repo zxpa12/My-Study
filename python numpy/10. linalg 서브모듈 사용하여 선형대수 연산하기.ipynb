{
 "cells": [
  {
   "cell_type": "markdown",
   "metadata": {},
   "source": [
    "## 학습목표\n",
    " 1. linalg 서브모듈 함수 활용여 선형대수 연산하기"
   ]
  },
  {
   "cell_type": "code",
   "execution_count": 2,
   "metadata": {},
   "outputs": [],
   "source": [
    "import numpy as np"
   ]
  },
  {
   "cell_type": "markdown",
   "metadata": {},
   "source": [
    "#### np.linalg.inv\n",
    " - 역행렬을 구할 때 사용\n",
    " - 모든 차원의 값이 같아야 함"
   ]
  },
  {
   "cell_type": "code",
   "execution_count": 14,
   "metadata": {},
   "outputs": [
    {
     "name": "stdout",
     "output_type": "stream",
     "text": [
      "[[0.9185911  0.77063275 0.64554638]\n",
      " [0.59202424 0.81866996 0.06374724]\n",
      " [0.6865486  0.94685504 0.20137356]]\n",
      "[[ 1.00000000e+00  4.08901828e-17 -2.28800653e-16]\n",
      " [-9.96685688e-17  1.00000000e+00 -6.43239817e-16]\n",
      " [-3.95948295e-16  6.24391404e-16  1.00000000e+00]]\n",
      "==========================================\n",
      "[[ 1.00000000e+00  4.08901828e-17 -2.28800653e-16]\n",
      " [-9.96685688e-17  1.00000000e+00 -6.43239817e-16]\n",
      " [-3.95948295e-16  6.24391404e-16  1.00000000e+00]]\n"
     ]
    }
   ],
   "source": [
    "x = np.random.rand(3, 3) # a x a 행렬만 가능함.\n",
    "print(x)\n",
    "\n",
    "print(x @ np.linalg.inv(x)) # 행렬의 곱\n",
    "print('==========================================')\n",
    "print(np.matmul(x, np.linalg.inv(x)))"
   ]
  },
  {
   "cell_type": "markdown",
   "metadata": {},
   "source": [
    "#### np.linalg.solve\n",
    " - Ax = B 형태의 선형대수식 솔루션을 제공\n",
    " - 예제) 호랑이와 홍합의 합 : 25 호랑이 다리와 홍합 다리의 합은 64\n",
    "   - x + y = 25\n",
    "   - 2x + 4y = 64\n",
    "   \n",
    " $$\\begin{pmatrix} 1 & 1 \\\\ 2 & 4 \\end{pmatrix}\\begin{pmatrix} x \\\\ y \\end{pmatrix}= \\begin{pmatrix} 25 \\\\ 64 \\end{pmatrix}$$\n"
   ]
  },
  {
   "cell_type": "code",
   "execution_count": 20,
   "metadata": {},
   "outputs": [
    {
     "name": "stdout",
     "output_type": "stream",
     "text": [
      "[18.  7.]\n"
     ]
    },
    {
     "data": {
      "text/plain": [
       "True"
      ]
     },
     "execution_count": 20,
     "metadata": {},
     "output_type": "execute_result"
    }
   ],
   "source": [
    "A = np.array([[1, 1], [2, 4]])\n",
    "B = np.array([25, 64])\n",
    "x = np.linalg.solve(A, B)\n",
    "print(x)\n",
    "\n",
    "np.allclose(A @ x, B)"
   ]
  },
  {
   "cell_type": "code",
   "execution_count": null,
   "metadata": {},
   "outputs": [],
   "source": []
  }
 ],
 "metadata": {
  "kernelspec": {
   "display_name": "Python 3",
   "language": "python",
   "name": "python3"
  },
  "language_info": {
   "codemirror_mode": {
    "name": "ipython",
    "version": 3
   },
   "file_extension": ".py",
   "mimetype": "text/x-python",
   "name": "python",
   "nbconvert_exporter": "python",
   "pygments_lexer": "ipython3",
   "version": "3.8.5"
  }
 },
 "nbformat": 4,
 "nbformat_minor": 1
}
